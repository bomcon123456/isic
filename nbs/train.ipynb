{
 "cells": [
  {
   "cell_type": "code",
   "execution_count": null,
   "metadata": {},
   "outputs": [],
   "source": [
    "# default_exp train"
   ]
  },
  {
   "cell_type": "markdown",
   "metadata": {},
   "source": [
    "# Train\n",
    "\n",
    "> API details."
   ]
  },
  {
   "cell_type": "code",
   "execution_count": null,
   "metadata": {},
   "outputs": [],
   "source": [
    "%load_ext autoreload\n",
    "%autoreload 2\n",
    "\n",
    "import matplotlib as mpl\n",
    "%matplotlib inline"
   ]
  },
  {
   "cell_type": "code",
   "execution_count": null,
   "metadata": {},
   "outputs": [],
   "source": [
    "#export\n",
    "import warnings\n",
    "import re\n",
    "from functools import partial\n",
    "\n",
    "import torch\n",
    "import torch.nn as nn\n",
    "import torch.nn.functional as F\n",
    "import torchvision.models as models\n",
    "\n",
    "import pytorch_lightning as pl\n",
    "from pytorch_lightning.core import LightningModule\n",
    "from pytorch_lightning.metrics import functional as FM"
   ]
  },
  {
   "cell_type": "code",
   "execution_count": null,
   "metadata": {},
   "outputs": [],
   "source": [
    "#export\n",
    "from isic.dataset import SkinDataModule, from_label_idx_to_key\n",
    "from isic.layers import LabelSmoothingCrossEntropy\n",
    "from isic.callback.hyperlogger import HyperparamsLogger\n",
    "from isic.callback.logtable import LogTableMetricsCallback\n",
    "from isic.callback.mixup import MixupDict\n",
    "from isic.callback.cutmix import CutmixDict\n",
    "from isic.callback.freeze import FreezeCallback, UnfreezeCallback\n",
    "from isic.utils.core import reduce_loss, generate_val_steps\n",
    "from isic.utils.model import apply_init, get_bias_batchnorm_params, apply_leaf, check_attrib_module, create_body, create_head, lr_find, freeze, unfreeze, log_metrics_per_key\n",
    "from isic.model import BaselineModel, Model"
   ]
  },
  {
   "cell_type": "code",
   "execution_count": null,
   "metadata": {},
   "outputs": [],
   "source": [
    "message_formater = \"You have set {0} number of classes if different from predicted {0} and target {0} number of classes\"\n",
    "warnings.filterwarnings(\"ignore\", message_formater.format(\"(.*)\"), category=UserWarning)"
   ]
  },
  {
   "cell_type": "code",
   "execution_count": null,
   "metadata": {},
   "outputs": [],
   "source": [
    "dm = SkinDataModule()\n",
    "dm.prepare_data()\n",
    "dm.setup('fit')"
   ]
  },
  {
   "cell_type": "code",
   "execution_count": null,
   "metadata": {},
   "outputs": [],
   "source": [
    "F_EPOCHS = 1\n",
    "U_EPOCHS = 1\n",
    "LR = 1e-2"
   ]
  },
  {
   "cell_type": "markdown",
   "metadata": {},
   "source": [
    "# Baseline"
   ]
  },
  {
   "cell_type": "code",
   "execution_count": null,
   "metadata": {},
   "outputs": [
    {
     "name": "stderr",
     "output_type": "stream",
     "text": [
      "Running in fast_dev_run mode: will run a full train, val and test loop using a single batch\n",
      "GPU available: False, used: False\n",
      "TPU available: False, using: 0 TPU cores\n",
      "C:\\Users\\bomco\\miniconda3\\envs\\devtorch\\lib\\site-packages\\pytorch_lightning\\utilities\\distributed.py:37: UserWarning: Could not log computational graph since the `model.example_input_array` attribute is not set or `input_array` was not given\n",
      "  warnings.warn(*args, **kwargs)\n",
      "\n",
      "  | Name  | Type   | Params\n",
      "---------------------------------\n",
      "0 | model | ResNet | 11 M  \n"
     ]
    },
    {
     "data": {
      "application/vnd.jupyter.widget-view+json": {
       "model_id": "7c53e43335e34bc3863579e14d92ad42",
       "version_major": 2,
       "version_minor": 0
      },
      "text/plain": [
       "HBox(children=(FloatProgress(value=1.0, bar_style='info', description='Training', layout=Layout(flex='2'), max…"
      ]
     },
     "metadata": {},
     "output_type": "display_data"
    },
    {
     "data": {
      "application/vnd.jupyter.widget-view+json": {
       "model_id": "",
       "version_major": 2,
       "version_minor": 0
      },
      "text/plain": [
       "HBox(children=(FloatProgress(value=1.0, bar_style='info', description='Validating', layout=Layout(flex='2'), m…"
      ]
     },
     "metadata": {},
     "output_type": "display_data"
    },
    {
     "name": "stderr",
     "output_type": "stream",
     "text": [
      "C:\\Users\\bomco\\miniconda3\\envs\\devtorch\\lib\\site-packages\\pytorch_lightning\\utilities\\distributed.py:37: RuntimeWarning: The metric you returned None must be a `torch.Tensor` instance, checkpoint not saved HINT: what is the value of loss in validation_epoch_end()?\n",
      "  warnings.warn(*args, **kwargs)\n",
      "C:\\Users\\bomco\\miniconda3\\envs\\devtorch\\lib\\site-packages\\pytorch_lightning\\utilities\\distributed.py:37: RuntimeWarning: Can save best model only with loss available, skipping.\n",
      "  warnings.warn(*args, **kwargs)\n"
     ]
    },
    {
     "name": "stdout",
     "output_type": "stream",
     "text": [
      "{'train_loss': 2.334678888320923, 'epoch': 0}\n",
      "{'val_acc': 0.0, 'val_precision': 0.0, 'val_recall': 0.0, 'F1': 0.0, 'val_precision_akiec': 0.0, 'val_precision_bcc': 0.0, 'val_precision_bkl': 0.0, 'val_precision_df': 0.0, 'val_precision_nv': 0.0, 'val_precision_mel': 0.0, 'val_precision_vasc': 0.0, 'val_recall_akiec': 0.0, 'val_recall_bcc': 0.0, 'val_recall_bkl': 0.0, 'val_recall_df': 0.0, 'val_recall_nv': 0.0, 'val_recall_mel': 0.0, 'val_recall_vasc': 0.0, 'val_loss': 21.035709381103516}\n",
      "{'val_early_stop_on': None, 'val_checkpoint_on': None, 'checkpoint_on': tensor(2.3347)}\n"
     ]
    },
    {
     "data": {
      "text/html": [
       "<table border=\"1\" class=\"dataframe\">\n",
       "  <thead>\n",
       "    <tr style=\"text-align: left;\">\n",
       "      <th>epoch</th>\n",
       "      <th>train_loss</th>\n",
       "      <th>val_acc</th>\n",
       "      <th>val_precision</th>\n",
       "      <th>val_recall</th>\n",
       "      <th>F1</th>\n",
       "      <th>val_precision_akiec</th>\n",
       "      <th>val_precision_bcc</th>\n",
       "      <th>val_precision_bkl</th>\n",
       "      <th>val_precision_df</th>\n",
       "      <th>val_precision_nv</th>\n",
       "      <th>val_precision_mel</th>\n",
       "      <th>val_precision_vasc</th>\n",
       "      <th>val_recall_akiec</th>\n",
       "      <th>val_recall_bcc</th>\n",
       "      <th>val_recall_bkl</th>\n",
       "      <th>val_recall_df</th>\n",
       "      <th>val_recall_nv</th>\n",
       "      <th>val_recall_mel</th>\n",
       "      <th>val_recall_vasc</th>\n",
       "      <th>val_loss</th>\n",
       "      <th>time</th>\n",
       "    </tr>\n",
       "  </thead>\n",
       "  <tbody>\n",
       "    <tr>\n",
       "      <td>1</td>\n",
       "      <td>2.335</td>\n",
       "      <td>0.000000</td>\n",
       "      <td>0.000000</td>\n",
       "      <td>0.000000</td>\n",
       "      <td>0.000000</td>\n",
       "      <td>0.000000</td>\n",
       "      <td>0.000000</td>\n",
       "      <td>0.000000</td>\n",
       "      <td>0.000000</td>\n",
       "      <td>0.000000</td>\n",
       "      <td>0.000000</td>\n",
       "      <td>0.000000</td>\n",
       "      <td>0.000000</td>\n",
       "      <td>0.000000</td>\n",
       "      <td>0.000000</td>\n",
       "      <td>0.000000</td>\n",
       "      <td>0.000000</td>\n",
       "      <td>0.000000</td>\n",
       "      <td>0.000000</td>\n",
       "      <td>21.035709</td>\n",
       "      <td>00:38</td>\n",
       "    </tr>\n",
       "  </tbody>\n",
       "</table><p>"
      ],
      "text/plain": [
       "<IPython.core.display.HTML object>"
      ]
     },
     "metadata": {},
     "output_type": "display_data"
    },
    {
     "name": "stderr",
     "output_type": "stream",
     "text": [
      "Saving latest checkpoint..\n"
     ]
    },
    {
     "name": "stdout",
     "output_type": "stream",
     "text": [
      "\n"
     ]
    },
    {
     "data": {
      "text/plain": [
       "1"
      ]
     },
     "execution_count": null,
     "metadata": {},
     "output_type": "execute_result"
    }
   ],
   "source": [
    "model = BaselineModel('resnet18')\n",
    "trainer = pl.Trainer(fast_dev_run=True, callbacks=[LogTableMetricsCallback()])\n",
    "trainer.fit(model, dm)"
   ]
  },
  {
   "cell_type": "code",
   "execution_count": null,
   "metadata": {},
   "outputs": [
    {
     "name": "stderr",
     "output_type": "stream",
     "text": [
      "/home/termanteus/miniconda3/envs/devtorch/lib/python3.8/site-packages/pytorch_lightning/utilities/distributed.py:37: UserWarning: Could not log computational graph since the `model.example_input_array` attribute is not set or `input_array` was not given\n",
      "  warnings.warn(*args, **kwargs)\n"
     ]
    },
    {
     "data": {
      "application/vnd.jupyter.widget-view+json": {
       "model_id": "2201af949b6e4eb6865a9cb0b34a6766",
       "version_major": 2,
       "version_minor": 0
      },
      "text/plain": [
       "HBox(children=(FloatProgress(value=1.0, bar_style='info', description='Testing', layout=Layout(flex='2'), max=…"
      ]
     },
     "metadata": {},
     "output_type": "display_data"
    },
    {
     "name": "stdout",
     "output_type": "stream",
     "text": [
      "hehe\n",
      "--------------------------------------------------------------------------------\n",
      "DATALOADER:0 TEST RESULTS\n",
      "{'F1': tensor(0.0571),\n",
      " 'val_acc': tensor(0.2500),\n",
      " 'val_precision': tensor(0.1429),\n",
      " 'val_precision_akiec': tensor(0.),\n",
      " 'val_precision_bcc': tensor(0.),\n",
      " 'val_precision_bkl': tensor(1.),\n",
      " 'val_precision_df': tensor(0.),\n",
      " 'val_precision_mel': tensor(0.),\n",
      " 'val_precision_nv': tensor(0.),\n",
      " 'val_precision_vasc': tensor(0.),\n",
      " 'val_recal_akiec': tensor(0.),\n",
      " 'val_recal_bcc': tensor(0.),\n",
      " 'val_recal_bkl': tensor(0.2500),\n",
      " 'val_recal_df': tensor(0.),\n",
      " 'val_recal_mel': tensor(0.),\n",
      " 'val_recal_nv': tensor(0.),\n",
      " 'val_recal_vasc': tensor(0.),\n",
      " 'val_recall': tensor(0.0357)}\n",
      "--------------------------------------------------------------------------------\n",
      "\n"
     ]
    }
   ],
   "source": [
    "dm.setup('test')\n",
    "a = trainer.test(model, dm.val_dataloader())"
   ]
  },
  {
   "cell_type": "code",
   "execution_count": null,
   "metadata": {},
   "outputs": [
    {
     "data": {
      "text/plain": [
       "torch.Size([64])"
      ]
     },
     "execution_count": null,
     "metadata": {},
     "output_type": "execute_result"
    }
   ],
   "source": [
    "torch.load('preds.pt').shape"
   ]
  },
  {
   "cell_type": "markdown",
   "metadata": {},
   "source": [
    "# Real"
   ]
  },
  {
   "cell_type": "code",
   "execution_count": null,
   "metadata": {},
   "outputs": [
    {
     "name": "stderr",
     "output_type": "stream",
     "text": [
      "Downloading: \"https://download.pytorch.org/models/resnet18-5c106cde.pth\" to /home/termanteus/.cache/torch/hub/checkpoints/resnet18-5c106cde.pth\n"
     ]
    },
    {
     "data": {
      "application/vnd.jupyter.widget-view+json": {
       "model_id": "fff2ca87c7584248aed34852e2cbd8ea",
       "version_major": 2,
       "version_minor": 0
      },
      "text/plain": [
       "HBox(children=(FloatProgress(value=0.0, max=46827520.0), HTML(value='')))"
      ]
     },
     "metadata": {},
     "output_type": "display_data"
    },
    {
     "name": "stdout",
     "output_type": "stream",
     "text": [
      "\n"
     ]
    }
   ],
   "source": [
    "# init model\n",
    "model = Model(LR, arch='resnet18')"
   ]
  },
  {
   "cell_type": "code",
   "execution_count": null,
   "metadata": {},
   "outputs": [
    {
     "name": "stdout",
     "output_type": "stream",
     "text": [
      "Conv2d(3, 64, kernel_size=(7, 7), stride=(2, 2), padding=(3, 3), bias=False)\n",
      "['weight-requires_grad-False']\n",
      "BatchNorm2d(64, eps=1e-05, momentum=0.1, affine=True, track_running_stats=True)\n",
      "['weight-requires_grad-True', 'weight-skip_wd-True', 'bias-requires_grad-True', 'bias-skip_wd-True']\n",
      "ReLU(inplace=True)\n",
      "[]\n",
      "MaxPool2d(kernel_size=3, stride=2, padding=1, dilation=1, ceil_mode=False)\n",
      "[]\n",
      "Conv2d(64, 64, kernel_size=(3, 3), stride=(1, 1), padding=(1, 1), bias=False)\n",
      "['weight-requires_grad-False']\n",
      "BatchNorm2d(64, eps=1e-05, momentum=0.1, affine=True, track_running_stats=True)\n",
      "['weight-requires_grad-True', 'weight-skip_wd-True', 'bias-requires_grad-True', 'bias-skip_wd-True']\n",
      "ReLU(inplace=True)\n",
      "[]\n",
      "Conv2d(64, 64, kernel_size=(3, 3), stride=(1, 1), padding=(1, 1), bias=False)\n",
      "['weight-requires_grad-False']\n",
      "BatchNorm2d(64, eps=1e-05, momentum=0.1, affine=True, track_running_stats=True)\n",
      "['weight-requires_grad-True', 'weight-skip_wd-True', 'bias-requires_grad-True', 'bias-skip_wd-True']\n",
      "Conv2d(64, 64, kernel_size=(3, 3), stride=(1, 1), padding=(1, 1), bias=False)\n",
      "['weight-requires_grad-False']\n",
      "BatchNorm2d(64, eps=1e-05, momentum=0.1, affine=True, track_running_stats=True)\n",
      "['weight-requires_grad-True', 'weight-skip_wd-True', 'bias-requires_grad-True', 'bias-skip_wd-True']\n",
      "ReLU(inplace=True)\n",
      "[]\n",
      "Conv2d(64, 64, kernel_size=(3, 3), stride=(1, 1), padding=(1, 1), bias=False)\n",
      "['weight-requires_grad-False']\n",
      "BatchNorm2d(64, eps=1e-05, momentum=0.1, affine=True, track_running_stats=True)\n",
      "['weight-requires_grad-True', 'weight-skip_wd-True', 'bias-requires_grad-True', 'bias-skip_wd-True']\n",
      "Conv2d(64, 128, kernel_size=(3, 3), stride=(2, 2), padding=(1, 1), bias=False)\n",
      "['weight-requires_grad-False']\n",
      "BatchNorm2d(128, eps=1e-05, momentum=0.1, affine=True, track_running_stats=True)\n",
      "['weight-requires_grad-True', 'weight-skip_wd-True', 'bias-requires_grad-True', 'bias-skip_wd-True']\n",
      "ReLU(inplace=True)\n",
      "[]\n",
      "Conv2d(128, 128, kernel_size=(3, 3), stride=(1, 1), padding=(1, 1), bias=False)\n",
      "['weight-requires_grad-False']\n",
      "BatchNorm2d(128, eps=1e-05, momentum=0.1, affine=True, track_running_stats=True)\n",
      "['weight-requires_grad-True', 'weight-skip_wd-True', 'bias-requires_grad-True', 'bias-skip_wd-True']\n",
      "Conv2d(64, 128, kernel_size=(1, 1), stride=(2, 2), bias=False)\n",
      "['weight-requires_grad-False']\n",
      "BatchNorm2d(128, eps=1e-05, momentum=0.1, affine=True, track_running_stats=True)\n",
      "['weight-requires_grad-True', 'weight-skip_wd-True', 'bias-requires_grad-True', 'bias-skip_wd-True']\n",
      "Conv2d(128, 128, kernel_size=(3, 3), stride=(1, 1), padding=(1, 1), bias=False)\n",
      "['weight-requires_grad-False']\n",
      "BatchNorm2d(128, eps=1e-05, momentum=0.1, affine=True, track_running_stats=True)\n",
      "['weight-requires_grad-True', 'weight-skip_wd-True', 'bias-requires_grad-True', 'bias-skip_wd-True']\n",
      "ReLU(inplace=True)\n",
      "[]\n",
      "Conv2d(128, 128, kernel_size=(3, 3), stride=(1, 1), padding=(1, 1), bias=False)\n",
      "['weight-requires_grad-False']\n",
      "BatchNorm2d(128, eps=1e-05, momentum=0.1, affine=True, track_running_stats=True)\n",
      "['weight-requires_grad-True', 'weight-skip_wd-True', 'bias-requires_grad-True', 'bias-skip_wd-True']\n",
      "Conv2d(128, 256, kernel_size=(3, 3), stride=(2, 2), padding=(1, 1), bias=False)\n",
      "['weight-requires_grad-False']\n",
      "BatchNorm2d(256, eps=1e-05, momentum=0.1, affine=True, track_running_stats=True)\n",
      "['weight-requires_grad-True', 'weight-skip_wd-True', 'bias-requires_grad-True', 'bias-skip_wd-True']\n",
      "ReLU(inplace=True)\n",
      "[]\n",
      "Conv2d(256, 256, kernel_size=(3, 3), stride=(1, 1), padding=(1, 1), bias=False)\n",
      "['weight-requires_grad-False']\n",
      "BatchNorm2d(256, eps=1e-05, momentum=0.1, affine=True, track_running_stats=True)\n",
      "['weight-requires_grad-True', 'weight-skip_wd-True', 'bias-requires_grad-True', 'bias-skip_wd-True']\n",
      "Conv2d(128, 256, kernel_size=(1, 1), stride=(2, 2), bias=False)\n",
      "['weight-requires_grad-False']\n",
      "BatchNorm2d(256, eps=1e-05, momentum=0.1, affine=True, track_running_stats=True)\n",
      "['weight-requires_grad-True', 'weight-skip_wd-True', 'bias-requires_grad-True', 'bias-skip_wd-True']\n",
      "Conv2d(256, 256, kernel_size=(3, 3), stride=(1, 1), padding=(1, 1), bias=False)\n",
      "['weight-requires_grad-False']\n",
      "BatchNorm2d(256, eps=1e-05, momentum=0.1, affine=True, track_running_stats=True)\n",
      "['weight-requires_grad-True', 'weight-skip_wd-True', 'bias-requires_grad-True', 'bias-skip_wd-True']\n",
      "ReLU(inplace=True)\n",
      "[]\n",
      "Conv2d(256, 256, kernel_size=(3, 3), stride=(1, 1), padding=(1, 1), bias=False)\n",
      "['weight-requires_grad-False']\n",
      "BatchNorm2d(256, eps=1e-05, momentum=0.1, affine=True, track_running_stats=True)\n",
      "['weight-requires_grad-True', 'weight-skip_wd-True', 'bias-requires_grad-True', 'bias-skip_wd-True']\n",
      "Conv2d(256, 512, kernel_size=(3, 3), stride=(2, 2), padding=(1, 1), bias=False)\n",
      "['weight-requires_grad-False']\n",
      "BatchNorm2d(512, eps=1e-05, momentum=0.1, affine=True, track_running_stats=True)\n",
      "['weight-requires_grad-True', 'weight-skip_wd-True', 'bias-requires_grad-True', 'bias-skip_wd-True']\n",
      "ReLU(inplace=True)\n",
      "[]\n",
      "Conv2d(512, 512, kernel_size=(3, 3), stride=(1, 1), padding=(1, 1), bias=False)\n",
      "['weight-requires_grad-False']\n",
      "BatchNorm2d(512, eps=1e-05, momentum=0.1, affine=True, track_running_stats=True)\n",
      "['weight-requires_grad-True', 'weight-skip_wd-True', 'bias-requires_grad-True', 'bias-skip_wd-True']\n",
      "Conv2d(256, 512, kernel_size=(1, 1), stride=(2, 2), bias=False)\n",
      "['weight-requires_grad-False']\n",
      "BatchNorm2d(512, eps=1e-05, momentum=0.1, affine=True, track_running_stats=True)\n",
      "['weight-requires_grad-True', 'weight-skip_wd-True', 'bias-requires_grad-True', 'bias-skip_wd-True']\n",
      "Conv2d(512, 512, kernel_size=(3, 3), stride=(1, 1), padding=(1, 1), bias=False)\n",
      "['weight-requires_grad-False']\n",
      "BatchNorm2d(512, eps=1e-05, momentum=0.1, affine=True, track_running_stats=True)\n",
      "['weight-requires_grad-True', 'weight-skip_wd-True', 'bias-requires_grad-True', 'bias-skip_wd-True']\n",
      "ReLU(inplace=True)\n",
      "[]\n",
      "Conv2d(512, 512, kernel_size=(3, 3), stride=(1, 1), padding=(1, 1), bias=False)\n",
      "['weight-requires_grad-False']\n",
      "BatchNorm2d(512, eps=1e-05, momentum=0.1, affine=True, track_running_stats=True)\n",
      "['weight-requires_grad-True', 'weight-skip_wd-True', 'bias-requires_grad-True', 'bias-skip_wd-True']\n",
      "AdaptiveAvgPool2d(output_size=1)\n",
      "[]\n",
      "AdaptiveMaxPool2d(output_size=1)\n",
      "[]\n",
      "Flatten()\n",
      "[]\n",
      "BatchNorm1d(1024, eps=1e-05, momentum=0.1, affine=True, track_running_stats=True)\n",
      "['weight-requires_grad-True', 'weight-skip_wd-True', 'bias-requires_grad-True', 'bias-skip_wd-True']\n",
      "Dropout(p=0.25, inplace=False)\n",
      "[]\n",
      "Linear(in_features=1024, out_features=512, bias=False)\n",
      "['weight-requires_grad-True']\n",
      "ReLU(inplace=True)\n",
      "[]\n",
      "BatchNorm1d(512, eps=1e-05, momentum=0.1, affine=True, track_running_stats=True)\n",
      "['weight-requires_grad-True', 'weight-skip_wd-True', 'bias-requires_grad-True', 'bias-skip_wd-True']\n",
      "Dropout(p=0.5, inplace=False)\n",
      "[]\n",
      "Linear(in_features=512, out_features=7, bias=False)\n",
      "['weight-requires_grad-True']\n",
      "BalancedAccuracy()\n",
      "[]\n",
      "LabelSmoothingCrossEntropy()\n",
      "[]\n"
     ]
    }
   ],
   "source": [
    "check_attrib_module(model)"
   ]
  },
  {
   "cell_type": "code",
   "execution_count": null,
   "metadata": {},
   "outputs": [
    {
     "name": "stderr",
     "output_type": "stream",
     "text": [
      "Running in fast_dev_run mode: will run a full train, val and test loop using a single batch\n",
      "GPU available: False, used: False\n",
      "TPU available: False, using: 0 TPU cores\n",
      "C:\\Users\\bomco\\miniconda3\\envs\\devtorch\\lib\\site-packages\\pytorch_lightning\\utilities\\distributed.py:37: UserWarning: Could not log computational graph since the `model.example_input_array` attribute is not set or `input_array` was not given\n",
      "  warnings.warn(*args, **kwargs)\n",
      "\n",
      "  | Name      | Type                       | Params\n",
      "---------------------------------------------------------\n",
      "0 | model     | Sequential                 | 11 M  \n",
      "1 | m_bacc    | BalancedAccuracy           | 0     \n",
      "2 | loss_func | LabelSmoothingCrossEntropy | 0     \n"
     ]
    },
    {
     "name": "stdout",
     "output_type": "stream",
     "text": [
      "override_called\n",
      "[0.01, 0.01, 0.01, 0.01, 0.01, 0.01]\n"
     ]
    },
    {
     "data": {
      "application/vnd.jupyter.widget-view+json": {
       "model_id": "882cfe56ace642e0abcd4bb8be61775c",
       "version_major": 2,
       "version_minor": 0
      },
      "text/plain": [
       "HBox(children=(FloatProgress(value=1.0, bar_style='info', description='Training', layout=Layout(flex='2'), max…"
      ]
     },
     "metadata": {},
     "output_type": "display_data"
    },
    {
     "data": {
      "application/vnd.jupyter.widget-view+json": {
       "model_id": "",
       "version_major": 2,
       "version_minor": 0
      },
      "text/plain": [
       "HBox(children=(FloatProgress(value=1.0, bar_style='info', description='Validating', layout=Layout(flex='2'), m…"
      ]
     },
     "metadata": {},
     "output_type": "display_data"
    },
    {
     "name": "stderr",
     "output_type": "stream",
     "text": [
      "C:\\Users\\bomco\\miniconda3\\envs\\devtorch\\lib\\site-packages\\sklearn\\metrics\\_classification.py:1814: UserWarning: y_pred contains classes not in y_true\n",
      "  warnings.warn('y_pred contains classes not in y_true')\n",
      "Saving latest checkpoint..\n"
     ]
    },
    {
     "name": "stdout",
     "output_type": "stream",
     "text": [
      "\n",
      "Adam (\n",
      "Parameter Group 0\n",
      "    amsgrad: False\n",
      "    betas: (0.9, 0.999)\n",
      "    eps: 1e-08\n",
      "    lr: 0.01\n",
      "    weight_decay: 0.0\n",
      "\n",
      "Parameter Group 1\n",
      "    amsgrad: False\n",
      "    betas: (0.9, 0.999)\n",
      "    eps: 1e-08\n",
      "    lr: 0.01\n",
      "    weight_decay: 0.0\n",
      "\n",
      "Parameter Group 2\n",
      "    amsgrad: False\n",
      "    betas: (0.9, 0.999)\n",
      "    eps: 1e-08\n",
      "    lr: 0.01\n",
      "    weight_decay: 0.0\n",
      "\n",
      "Parameter Group 3\n",
      "    amsgrad: False\n",
      "    betas: (0.9, 0.999)\n",
      "    eps: 1e-08\n",
      "    lr: 0.01\n",
      "    weight_decay: 0.0\n",
      "\n",
      "Parameter Group 4\n",
      "    amsgrad: False\n",
      "    betas: (0.9, 0.999)\n",
      "    eps: 1e-08\n",
      "    lr: 0.01\n",
      "    weight_decay: 0.0\n",
      "\n",
      "Parameter Group 5\n",
      "    amsgrad: False\n",
      "    betas: (0.9, 0.999)\n",
      "    eps: 1e-08\n",
      "    lr: 0.01\n",
      "    weight_decay: 0.0\n",
      ")\n",
      "******************************Check requires_grad/ skip_wd******************************\n",
      "Conv2d(3, 64, kernel_size=(7, 7), stride=(2, 2), padding=(3, 3), bias=False)\n",
      "['weight-requires_grad-False']\n",
      "BatchNorm2d(64, eps=1e-05, momentum=0.1, affine=True, track_running_stats=True)\n",
      "['weight-requires_grad-True', 'weight-skip_wd-True', 'bias-requires_grad-True', 'bias-skip_wd-True']\n",
      "ReLU(inplace=True)\n",
      "[]\n",
      "MaxPool2d(kernel_size=3, stride=2, padding=1, dilation=1, ceil_mode=False)\n",
      "[]\n",
      "Conv2d(64, 64, kernel_size=(3, 3), stride=(1, 1), padding=(1, 1), bias=False)\n",
      "['weight-requires_grad-False']\n",
      "BatchNorm2d(64, eps=1e-05, momentum=0.1, affine=True, track_running_stats=True)\n",
      "['weight-requires_grad-True', 'weight-skip_wd-True', 'bias-requires_grad-True', 'bias-skip_wd-True']\n",
      "ReLU(inplace=True)\n",
      "[]\n",
      "Conv2d(64, 64, kernel_size=(3, 3), stride=(1, 1), padding=(1, 1), bias=False)\n",
      "['weight-requires_grad-False']\n",
      "BatchNorm2d(64, eps=1e-05, momentum=0.1, affine=True, track_running_stats=True)\n",
      "['weight-requires_grad-True', 'weight-skip_wd-True', 'bias-requires_grad-True', 'bias-skip_wd-True']\n",
      "Conv2d(64, 64, kernel_size=(3, 3), stride=(1, 1), padding=(1, 1), bias=False)\n",
      "['weight-requires_grad-False']\n",
      "BatchNorm2d(64, eps=1e-05, momentum=0.1, affine=True, track_running_stats=True)\n",
      "['weight-requires_grad-True', 'weight-skip_wd-True', 'bias-requires_grad-True', 'bias-skip_wd-True']\n",
      "ReLU(inplace=True)\n",
      "[]\n",
      "Conv2d(64, 64, kernel_size=(3, 3), stride=(1, 1), padding=(1, 1), bias=False)\n",
      "['weight-requires_grad-False']\n",
      "BatchNorm2d(64, eps=1e-05, momentum=0.1, affine=True, track_running_stats=True)\n",
      "['weight-requires_grad-True', 'weight-skip_wd-True', 'bias-requires_grad-True', 'bias-skip_wd-True']\n",
      "Conv2d(64, 128, kernel_size=(3, 3), stride=(2, 2), padding=(1, 1), bias=False)\n",
      "['weight-requires_grad-False']\n",
      "BatchNorm2d(128, eps=1e-05, momentum=0.1, affine=True, track_running_stats=True)\n",
      "['weight-requires_grad-True', 'weight-skip_wd-True', 'bias-requires_grad-True', 'bias-skip_wd-True']\n",
      "ReLU(inplace=True)\n",
      "[]\n",
      "Conv2d(128, 128, kernel_size=(3, 3), stride=(1, 1), padding=(1, 1), bias=False)\n",
      "['weight-requires_grad-False']\n",
      "BatchNorm2d(128, eps=1e-05, momentum=0.1, affine=True, track_running_stats=True)\n",
      "['weight-requires_grad-True', 'weight-skip_wd-True', 'bias-requires_grad-True', 'bias-skip_wd-True']\n",
      "Conv2d(64, 128, kernel_size=(1, 1), stride=(2, 2), bias=False)\n",
      "['weight-requires_grad-False']\n",
      "BatchNorm2d(128, eps=1e-05, momentum=0.1, affine=True, track_running_stats=True)\n",
      "['weight-requires_grad-True', 'weight-skip_wd-True', 'bias-requires_grad-True', 'bias-skip_wd-True']\n",
      "Conv2d(128, 128, kernel_size=(3, 3), stride=(1, 1), padding=(1, 1), bias=False)\n",
      "['weight-requires_grad-False']\n",
      "BatchNorm2d(128, eps=1e-05, momentum=0.1, affine=True, track_running_stats=True)\n",
      "['weight-requires_grad-True', 'weight-skip_wd-True', 'bias-requires_grad-True', 'bias-skip_wd-True']\n",
      "ReLU(inplace=True)\n",
      "[]\n",
      "Conv2d(128, 128, kernel_size=(3, 3), stride=(1, 1), padding=(1, 1), bias=False)\n",
      "['weight-requires_grad-False']\n",
      "BatchNorm2d(128, eps=1e-05, momentum=0.1, affine=True, track_running_stats=True)\n",
      "['weight-requires_grad-True', 'weight-skip_wd-True', 'bias-requires_grad-True', 'bias-skip_wd-True']\n",
      "Conv2d(128, 256, kernel_size=(3, 3), stride=(2, 2), padding=(1, 1), bias=False)\n",
      "['weight-requires_grad-False']\n",
      "BatchNorm2d(256, eps=1e-05, momentum=0.1, affine=True, track_running_stats=True)\n",
      "['weight-requires_grad-True', 'weight-skip_wd-True', 'bias-requires_grad-True', 'bias-skip_wd-True']\n",
      "ReLU(inplace=True)\n",
      "[]\n",
      "Conv2d(256, 256, kernel_size=(3, 3), stride=(1, 1), padding=(1, 1), bias=False)\n",
      "['weight-requires_grad-False']\n",
      "BatchNorm2d(256, eps=1e-05, momentum=0.1, affine=True, track_running_stats=True)\n",
      "['weight-requires_grad-True', 'weight-skip_wd-True', 'bias-requires_grad-True', 'bias-skip_wd-True']\n",
      "Conv2d(128, 256, kernel_size=(1, 1), stride=(2, 2), bias=False)\n",
      "['weight-requires_grad-False']\n",
      "BatchNorm2d(256, eps=1e-05, momentum=0.1, affine=True, track_running_stats=True)\n",
      "['weight-requires_grad-True', 'weight-skip_wd-True', 'bias-requires_grad-True', 'bias-skip_wd-True']\n",
      "Conv2d(256, 256, kernel_size=(3, 3), stride=(1, 1), padding=(1, 1), bias=False)\n",
      "['weight-requires_grad-False']\n",
      "BatchNorm2d(256, eps=1e-05, momentum=0.1, affine=True, track_running_stats=True)\n",
      "['weight-requires_grad-True', 'weight-skip_wd-True', 'bias-requires_grad-True', 'bias-skip_wd-True']\n",
      "ReLU(inplace=True)\n",
      "[]\n",
      "Conv2d(256, 256, kernel_size=(3, 3), stride=(1, 1), padding=(1, 1), bias=False)\n",
      "['weight-requires_grad-False']\n",
      "BatchNorm2d(256, eps=1e-05, momentum=0.1, affine=True, track_running_stats=True)\n",
      "['weight-requires_grad-True', 'weight-skip_wd-True', 'bias-requires_grad-True', 'bias-skip_wd-True']\n",
      "Conv2d(256, 512, kernel_size=(3, 3), stride=(2, 2), padding=(1, 1), bias=False)\n",
      "['weight-requires_grad-False']\n",
      "BatchNorm2d(512, eps=1e-05, momentum=0.1, affine=True, track_running_stats=True)\n",
      "['weight-requires_grad-True', 'weight-skip_wd-True', 'bias-requires_grad-True', 'bias-skip_wd-True']\n",
      "ReLU(inplace=True)\n",
      "[]\n",
      "Conv2d(512, 512, kernel_size=(3, 3), stride=(1, 1), padding=(1, 1), bias=False)\n",
      "['weight-requires_grad-False']\n",
      "BatchNorm2d(512, eps=1e-05, momentum=0.1, affine=True, track_running_stats=True)\n",
      "['weight-requires_grad-True', 'weight-skip_wd-True', 'bias-requires_grad-True', 'bias-skip_wd-True']\n",
      "Conv2d(256, 512, kernel_size=(1, 1), stride=(2, 2), bias=False)\n",
      "['weight-requires_grad-False']\n",
      "BatchNorm2d(512, eps=1e-05, momentum=0.1, affine=True, track_running_stats=True)\n",
      "['weight-requires_grad-True', 'weight-skip_wd-True', 'bias-requires_grad-True', 'bias-skip_wd-True']\n",
      "Conv2d(512, 512, kernel_size=(3, 3), stride=(1, 1), padding=(1, 1), bias=False)\n",
      "['weight-requires_grad-False']\n",
      "BatchNorm2d(512, eps=1e-05, momentum=0.1, affine=True, track_running_stats=True)\n",
      "['weight-requires_grad-True', 'weight-skip_wd-True', 'bias-requires_grad-True', 'bias-skip_wd-True']\n",
      "ReLU(inplace=True)\n",
      "[]\n",
      "Conv2d(512, 512, kernel_size=(3, 3), stride=(1, 1), padding=(1, 1), bias=False)\n",
      "['weight-requires_grad-False']\n",
      "BatchNorm2d(512, eps=1e-05, momentum=0.1, affine=True, track_running_stats=True)\n",
      "['weight-requires_grad-True', 'weight-skip_wd-True', 'bias-requires_grad-True', 'bias-skip_wd-True']\n",
      "--------------------------------------------------------------------------------\n",
      "AdaptiveAvgPool2d(output_size=1)\n",
      "[]\n",
      "AdaptiveMaxPool2d(output_size=1)\n",
      "[]\n",
      "Flatten()\n",
      "[]\n",
      "BatchNorm1d(1024, eps=1e-05, momentum=0.1, affine=True, track_running_stats=True)\n",
      "['weight-requires_grad-True', 'weight-skip_wd-True', 'bias-requires_grad-True', 'bias-skip_wd-True']\n",
      "Dropout(p=0.25, inplace=False)\n",
      "[]\n",
      "Linear(in_features=1024, out_features=512, bias=False)\n",
      "['weight-requires_grad-True']\n",
      "ReLU(inplace=True)\n",
      "[]\n",
      "BatchNorm1d(512, eps=1e-05, momentum=0.1, affine=True, track_running_stats=True)\n",
      "['weight-requires_grad-True', 'weight-skip_wd-True', 'bias-requires_grad-True', 'bias-skip_wd-True']\n",
      "Dropout(p=0.5, inplace=False)\n",
      "[]\n",
      "Linear(in_features=512, out_features=7, bias=False)\n",
      "['weight-requires_grad-True']\n"
     ]
    }
   ],
   "source": [
    "lr_find(model, dm,lr_find=False,verbose=True)"
   ]
  },
  {
   "cell_type": "code",
   "execution_count": null,
   "metadata": {},
   "outputs": [
    {
     "name": "stderr",
     "output_type": "stream",
     "text": [
      "GPU available: False, used: False\n",
      "TPU available: False, using: 0 TPU cores\n"
     ]
    }
   ],
   "source": [
    "cbs = [LogTableMetricsCallback(), HyperparamsLogger()]\n",
    "trainer = fit_one_cycle(F_EPOCHS, model, dm, max_lr=LR, callbacks=cbs, fast_dev_run=False, limit_val_batches=0, limit_train_batches=0.01)"
   ]
  },
  {
   "cell_type": "code",
   "execution_count": null,
   "metadata": {},
   "outputs": [],
   "source": [
    "unfreeze(model, 3)"
   ]
  },
  {
   "cell_type": "code",
   "execution_count": null,
   "metadata": {},
   "outputs": [
    {
     "name": "stderr",
     "output_type": "stream",
     "text": [
      "Running in fast_dev_run mode: will run a full train, val and test loop using a single batch\n",
      "GPU available: False, used: False\n",
      "TPU available: False, using: 0 TPU cores\n"
     ]
    }
   ],
   "source": [
    "# Unfreeze training\n",
    "trainer = fit_one_cycle(callbacks=cbs, fast_dev_run=False, limit_val_batches=0, limit_train_batches=0.01)"
   ]
  },
  {
   "cell_type": "code",
   "execution_count": null,
   "metadata": {},
   "outputs": [
    {
     "name": "stderr",
     "output_type": "stream",
     "text": [
      "\n",
      "  | Name      | Type             | Params\n",
      "-----------------------------------------------\n",
      "0 | model     | Sequential       | 25 M  \n",
      "1 | loss_func | CrossEntropyLoss | 0     \n"
     ]
    },
    {
     "name": "stdout",
     "output_type": "stream",
     "text": [
      "override_called\n",
      "wtf\n"
     ]
    },
    {
     "data": {
      "application/vnd.jupyter.widget-view+json": {
       "model_id": "a3447eb291f94446941044767a951eef",
       "version_major": 2,
       "version_minor": 0
      },
      "text/plain": [
       "HBox(children=(FloatProgress(value=1.0, bar_style='info', description='Training', layout=Layout(flex='2'), max…"
      ]
     },
     "metadata": {},
     "output_type": "display_data"
    },
    {
     "data": {
      "application/vnd.jupyter.widget-view+json": {
       "model_id": "",
       "version_major": 2,
       "version_minor": 0
      },
      "text/plain": [
       "HBox(children=(FloatProgress(value=1.0, bar_style='info', description='Validating', layout=Layout(flex='2'), m…"
      ]
     },
     "metadata": {},
     "output_type": "display_data"
    },
    {
     "data": {
      "text/html": [
       "<table border=\"1\" class=\"dataframe\">\n",
       "  <thead>\n",
       "    <tr style=\"text-align: left;\">\n",
       "      <th>epoch</th>\n",
       "      <th>train_loss</th>\n",
       "      <th>train_acc</th>\n",
       "      <th>val_loss</th>\n",
       "      <th>val_acc</th>\n",
       "    </tr>\n",
       "  </thead>\n",
       "  <tbody>\n",
       "    <tr>\n",
       "      <td>1</td>\n",
       "      <td>3.256</td>\n",
       "      <td>0.156250</td>\n",
       "      <td>4.279556</td>\n",
       "      <td>0.000000</td>\n",
       "    </tr>\n",
       "  </tbody>\n",
       "</table><p>"
      ],
      "text/plain": [
       "<IPython.core.display.HTML object>"
      ]
     },
     "metadata": {},
     "output_type": "display_data"
    },
    {
     "name": "stderr",
     "output_type": "stream",
     "text": [
      "Saving latest checkpoint..\n"
     ]
    },
    {
     "name": "stdout",
     "output_type": "stream",
     "text": [
      "\n"
     ]
    },
    {
     "data": {
      "text/plain": [
       "1"
      ]
     },
     "execution_count": null,
     "metadata": {},
     "output_type": "execute_result"
    }
   ],
   "source": [
    "trainer.fit(model, dm)"
   ]
  },
  {
   "cell_type": "markdown",
   "metadata": {},
   "source": [
    "# Tensorboard"
   ]
  },
  {
   "cell_type": "code",
   "execution_count": null,
   "metadata": {},
   "outputs": [],
   "source": [
    "%load_ext tensorboard"
   ]
  },
  {
   "cell_type": "code",
   "execution_count": null,
   "metadata": {},
   "outputs": [
    {
     "data": {
      "text/plain": [
       "Reusing TensorBoard on port 6006 (pid 4636), started 4 days, 18:33:26 ago. (Use '!kill 4636' to kill it.)"
      ]
     },
     "metadata": {},
     "output_type": "display_data"
    },
    {
     "data": {
      "text/html": [
       "\n",
       "      <iframe id=\"tensorboard-frame-7752bba96d9fd24c\" width=\"100%\" height=\"800\" frameborder=\"0\">\n",
       "      </iframe>\n",
       "      <script>\n",
       "        (function() {\n",
       "          const frame = document.getElementById(\"tensorboard-frame-7752bba96d9fd24c\");\n",
       "          const url = new URL(\"/\", window.location);\n",
       "          url.port = 6006;\n",
       "          frame.src = url;\n",
       "        })();\n",
       "      </script>\n",
       "  "
      ],
      "text/plain": [
       "<IPython.core.display.HTML object>"
      ]
     },
     "metadata": {},
     "output_type": "display_data"
    }
   ],
   "source": [
    "%tensorboard --logdir=lightning_logs/"
   ]
  },
  {
   "cell_type": "code",
   "execution_count": null,
   "metadata": {},
   "outputs": [],
   "source": []
  }
 ],
 "metadata": {
  "kernelspec": {
   "display_name": "Python 3",
   "language": "python",
   "name": "python3"
  }
 },
 "nbformat": 4,
 "nbformat_minor": 4
}
