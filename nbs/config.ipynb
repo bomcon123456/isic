{
 "cells": [
  {
   "cell_type": "code",
   "execution_count": null,
   "metadata": {},
   "outputs": [],
   "source": [
    "# default_exp config"
   ]
  },
  {
   "cell_type": "markdown",
   "metadata": {},
   "source": [
    "# Config\n",
    "\n",
    "> API details."
   ]
  },
  {
   "cell_type": "code",
   "execution_count": null,
   "metadata": {},
   "outputs": [],
   "source": [
    "#export\n",
    "class AppConfig:\n",
    "    SEED = 8080\n",
    "    NUM_CLASSES = 7\n",
    "\n",
    "\n",
    "class PathConfig:\n",
    "    #     DATA_PATH = '/content/data'\n",
    "    #     IMAGE_PATH = '/content/data/images'\n",
    "    #     CSV_PATH = '/content/data/HAM10000_metadata.csv'\n",
    "\n",
    "    DATA_PATH = \"D:\\Workspace\\ML\\HAM10000\\data\"\n",
    "    IMAGE_PATH = \"D:\\Workspace\\ML\\HAM10000\\data\\images\"\n",
    "    CSV_PATH = \"D:\\Workspace\\ML\\HAM10000\\data\\HAM10000_metadata.csv\"\n",
    "\n",
    "\n",
    "class TrainConfig:\n",
    "    BATCH_SIZE = 64\n",
    "    EPOCHS = 100\n",
    "    LR = 1e-6"
   ]
  },
  {
   "cell_type": "code",
   "execution_count": null,
   "metadata": {},
   "outputs": [],
   "source": [
    "#export\n",
    "def hehe():\n",
    "    print('hehe')"
   ]
  },
  {
   "cell_type": "code",
   "execution_count": null,
   "metadata": {},
   "outputs": [],
   "source": [
    "#export\n",
    "def heheas():\n",
    "    print('hehe')"
   ]
  }
 ],
 "metadata": {
  "kernelspec": {
   "display_name": "Python 3",
   "language": "python",
   "name": "python3"
  }
 },
 "nbformat": 4,
 "nbformat_minor": 4
}
