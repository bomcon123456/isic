{
 "cells": [
  {
   "cell_type": "code",
   "execution_count": null,
   "metadata": {},
   "outputs": [],
   "source": [
    "# default_exp config"
   ]
  },
  {
   "cell_type": "markdown",
   "metadata": {},
   "source": [
    "# Config\n",
    "\n",
    "> API details."
   ]
  },
  {
   "cell_type": "code",
   "execution_count": null,
   "metadata": {},
   "outputs": [],
   "source": [
    "#export\n",
    "class AppConfig:\n",
    "    SEED = 8080\n",
    "    NUM_CLASSES = 7\n",
    "\n",
    "\n",
    "class PathConfig:\n",
    "    #     DATA_PATH = '/content/data'\n",
    "    #     IMAGE_PATH = '/content/data/images'\n",
    "    #     CSV_PATH = '/content/data/HAM10000_metadata.csv'\n",
    "\n",
    "    DATA_PATH = \"D:\\Workspace\\ML\\HAM10000\\data\"\n",
    "    IMAGE_PATH = DATA_PATH + \"/images\"\n",
    "    CSV_PATH = DATA_PATH + \"/HAM10000_metadata.csv\"\n",
    "\n",
    "\n",
    "class TrainConfig:\n",
    "    BATCH_SIZE = 64\n",
    "    EPOCHS = 100\n",
    "    LR = 1e-6"
   ]
  },
  {
   "cell_type": "code",
   "execution_count": null,
   "metadata": {},
   "outputs": [
    {
     "name": "stdout",
     "output_type": "stream",
     "text": [
      "Converted config.ipynb.\n"
     ]
    }
   ],
   "source": [
    "from nbdev.export import *\n",
    "notebook2script('config.ipynb')"
   ]
  },
  {
   "cell_type": "code",
   "execution_count": null,
   "metadata": {},
   "outputs": [],
   "source": []
  }
 ],
 "metadata": {
  "kernelspec": {
   "display_name": "Python 3",
   "language": "python",
   "name": "python3"
  }
 },
 "nbformat": 4,
 "nbformat_minor": 4
}
