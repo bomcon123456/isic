{
 "cells": [
  {
   "cell_type": "code",
   "execution_count": null,
   "metadata": {},
   "outputs": [],
   "source": [
    "# default_exp callback.logtable"
   ]
  },
  {
   "cell_type": "markdown",
   "metadata": {},
   "source": [
    "# LogTableMetricsCallback\n",
    "\n",
    "> API details."
   ]
  },
  {
   "cell_type": "code",
   "execution_count": null,
   "metadata": {},
   "outputs": [],
   "source": [
    "%load_ext autoreload\n",
    "%autoreload 2\n",
    "\n",
    "import matplotlib as mpl\n",
    "%matplotlib inline"
   ]
  },
  {
   "cell_type": "code",
   "execution_count": null,
   "metadata": {},
   "outputs": [
    {
     "name": "stderr",
     "output_type": "stream",
     "text": [
      "C:\\Users\\bomco\\miniconda3\\envs\\devtorch\\lib\\site-packages\\pytorch_lightning\\utilities\\distributed.py:23: UserWarning: Unsupported `ReduceOp` for distributed computing.\n",
      "  warnings.warn(*args, **kwargs)\n"
     ]
    }
   ],
   "source": [
    "#export\n",
    "import copy\n",
    "from itertools import zip_longest\n",
    "from typing import List, Any, Dict, Callable\n",
    "\n",
    "from IPython.display import clear_output, display, HTML\n",
    "\n",
    "import torch\n",
    "import torch.nn as nn\n",
    "import torch.nn.functional as F\n",
    "import torchvision.models as models\n",
    "\n",
    "import pytorch_lightning as pl\n",
    "from pytorch_lightning.core import LightningModule\n",
    "from pytorch_lightning.metrics import functional as FM\n",
    "from pytorch_lightning.callbacks import Callback\n",
    "from pytorch_lightning.utilities import rank_zero_info"
   ]
  },
  {
   "cell_type": "code",
   "execution_count": null,
   "metadata": {},
   "outputs": [],
   "source": [
    "#export\n",
    "def text2html_table(items):\n",
    "    # items = [[headers]]\n",
    "    \"Put the texts in `items` in an HTML table.\"\n",
    "    html_code = f\"\"\"<table border=\"1\" class=\"dataframe\">\\n\"\"\"\n",
    "    html_code += f\"\"\"  <thead>\\n    <tr style=\"text-align: left;\">\\n\"\"\"\n",
    "    # headers in items[0]\n",
    "    for i in items[0]: html_code += f\"      <th>{i}</th>\\n\"\n",
    "    html_code += f\"    </tr>\\n  </thead>\\n  <tbody>\\n\"\n",
    "    for line in items[1:]:\n",
    "        html_code += \"    <tr>\\n\"\n",
    "        for i in line: html_code += f\"      <td>{i}</td>\\n\"\n",
    "        html_code += \"    </tr>\\n\"\n",
    "    html_code += \"  </tbody>\\n</table><p>\"\n",
    "    return html_code"
   ]
  },
  {
   "cell_type": "code",
   "execution_count": null,
   "metadata": {},
   "outputs": [],
   "source": [
    "#export\n",
    "#export\n",
    "class LogTableMetricsCallback(Callback):\n",
    "    def __init__(self):\n",
    "        self.metrics = []\n",
    "        self.headers = []\n",
    "        self.rows = []\n",
    "        self.out = None\n",
    "\n",
    "    def on_epoch_end(self, trainer, pl_module):\n",
    "        metrics = copy.copy(trainer.progress_bar_dict)\n",
    "        if 'v_num' in metrics.keys():\n",
    "            del metrics['v_num']\n",
    "        if not self.headers:\n",
    "            self.headers.append('epoch')\n",
    "            for k in metrics.keys():\n",
    "                if k == 'loss':\n",
    "                    self.headers.append('train_loss')\n",
    "                else:\n",
    "                    self.headers.append(k)\n",
    "        row = []\n",
    "        row.append(trainer.current_epoch + 1)\n",
    "        for header in self.headers:\n",
    "            if header == 'train_loss':\n",
    "                header = 'loss'\n",
    "            if header in metrics:\n",
    "                row.append(metrics[header])\n",
    "        row = [f\"{v:.6f}\" if isinstance(v, float) else str(v) for v in row]\n",
    "        self.rows.append(row)\n",
    "        if not self.out:\n",
    "            self.out = display(HTML(text2html_table([self.headers, *self.rows])), display_id=True)\n",
    "        self.out.update(HTML(text2html_table([self.headers, *self.rows])))\n",
    "#         print(self.metrics)\n",
    "#         print(trainer.progress_bar_dict)\n",
    "#         print(trainer.optimizers)\n",
    "#         print(trainer.lr_schedulers)"
   ]
  },
  {
   "cell_type": "code",
   "execution_count": null,
   "metadata": {},
   "outputs": [],
   "source": []
  }
 ],
 "metadata": {
  "kernelspec": {
   "display_name": "Python 3",
   "language": "python",
   "name": "python3"
  }
 },
 "nbformat": 4,
 "nbformat_minor": 4
}
