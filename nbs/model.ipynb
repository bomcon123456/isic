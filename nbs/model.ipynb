{
 "cells": [
  {
   "cell_type": "code",
   "execution_count": null,
   "metadata": {},
   "outputs": [],
   "source": [
    "# default_exp model"
   ]
  },
  {
   "cell_type": "markdown",
   "metadata": {},
   "source": [
    "# Models\n",
    "\n",
    "> API details."
   ]
  },
  {
   "cell_type": "code",
   "execution_count": null,
   "metadata": {},
   "outputs": [],
   "source": [
    "%load_ext autoreload\n",
    "%autoreload 2\n",
    "\n",
    "import matplotlib as mpl\n",
    "%matplotlib inline"
   ]
  },
  {
   "cell_type": "code",
   "execution_count": null,
   "metadata": {},
   "outputs": [],
   "source": [
    "#export\n",
    "import warnings\n",
    "import re\n",
    "from functools import partial\n",
    "\n",
    "import torch\n",
    "import torch.nn as nn\n",
    "import torch.nn.functional as F\n",
    "import torchvision.models as models\n",
    "\n",
    "import pytorch_lightning as pl\n",
    "from pytorch_lightning.core import LightningModule\n",
    "from pytorch_lightning.metrics import functional as FM"
   ]
  },
  {
   "cell_type": "code",
   "execution_count": null,
   "metadata": {},
   "outputs": [],
   "source": [
    "#export\n",
    "from isic.dataset import SkinDataModule, from_label_idx_to_key\n",
    "from isic.layers import LabelSmoothingCrossEntropy\n",
    "from isic.callback.hyperlogger import HyperparamsLogger\n",
    "from isic.callback.logtable import LogTableMetricsCallback\n",
    "from isic.callback.mixup import MixupDict\n",
    "from isic.callback.cutmix import CutmixDict\n",
    "from isic.callback.freeze import FreezeCallback, UnfreezeCallback\n",
    "from isic.utils.core import reduce_loss, generate_val_steps\n",
    "from isic.utils.model import apply_init, get_bias_batchnorm_params, apply_leaf, check_attrib_module, create_body, create_head, lr_find, freeze, unfreeze, log_metrics_per_key"
   ]
  },
  {
   "cell_type": "code",
   "execution_count": null,
   "metadata": {},
   "outputs": [],
   "source": [
    "#export\n",
    "class BaselineModel(LightningModule):\n",
    "    def __init__(self, arch='resnet50', lr=1e-2, loss_func=None):\n",
    "        super().__init__()\n",
    "        self.save_hyperparameters()\n",
    "        self.model = getattr(models, arch)(pretrained=True)\n",
    "        num_ftrs = self.model.fc.in_features\n",
    "        self.model.fc = nn.Linear(num_ftrs, 7)\n",
    "        self.loss_func = loss_func\n",
    "        if self.loss_func is None:\n",
    "            self.loss_func = F.cross_entropy\n",
    "\n",
    "    def forward(self, x):\n",
    "        return self.model(x)\n",
    "\n",
    "    def shared_step(self, batch, batch_id):\n",
    "        x, y = batch['img'], batch['label']\n",
    "        y_hat = self(x)\n",
    "        return self.loss_func(y_hat, y), (y_hat, y)\n",
    "\n",
    "    def training_step(self, batch, batch_idx):\n",
    "        loss, _ = self.shared_step(batch, batch_idx)\n",
    "        result = pl.TrainResult(minimize=loss)\n",
    "        result.log('train_loss', loss)\n",
    "        return result\n",
    "\n",
    "    def validation_step(self, batch, batch_idx):\n",
    "        loss, (y_hat, y) = self.shared_step(batch, batch_idx)\n",
    "        result = pl.EvalResult()\n",
    "        result.y = y\n",
    "        result.y_hat = y_hat\n",
    "        result.loss = loss\n",
    "        return result\n",
    "\n",
    "    def calc_and_log_metrics(self, y_hat, y):\n",
    "        acc = FM.accuracy(y_hat, y, num_classes=7)\n",
    "        preds = y_hat.argmax(1)\n",
    "        precision, recall = FM.precision_recall(y_hat, y, num_classes=7)\n",
    "        f1 = FM.f1_score(y_hat, y, num_classes=7)\n",
    "        prec_arr, recall_arr = FM.precision_recall(y_hat, y, num_classes=7, reduction='none')\n",
    "\n",
    "        result = pl.EvalResult()\n",
    "        result.log('val_acc', acc, prog_bar=True)\n",
    "        result.log('val_precision', precision, prog_bar=True)\n",
    "        result.log('val_recall', recall, prog_bar=True)\n",
    "        result.log('F1', f1, prog_bar=True)\n",
    "        metrics = {\n",
    "            \"precision\": prec_arr,\n",
    "            \"recall\": recall_arr,\n",
    "        }\n",
    "        log_metrics_per_key(result, metrics)\n",
    "        return result\n",
    "\n",
    "    def validation_epoch_end(self, out):\n",
    "        avg_val_loss = out.loss.mean()\n",
    "\n",
    "        result = self.calc_and_log_metrics(out.y_hat, out.y)\n",
    "        result.log('val_loss', avg_val_loss, prog_bar=True)\n",
    "\n",
    "        return result\n",
    "\n",
    "\n",
    "    def test_step(self, batch, batch_idx):\n",
    "        _, (y_hat, y) = self.shared_step(batch, batch_idx)\n",
    "        result = pl.EvalResult()\n",
    "        result.y = y\n",
    "        result.y_hat = y_hat\n",
    "        return result\n",
    "\n",
    "    def test_epoch_end(self, out):        \n",
    "        result = self.calc_and_log_metrics(out.y_hat, out.y)\n",
    "        torch.save(out.y_hat.cpu(), 'preds.pt')\n",
    "        torch.save(out.y.cpu(), 'labels.pt')\n",
    "\n",
    "        return result\n",
    "    \n",
    "    def configure_optimizers(self):\n",
    "        opt = torch.optim.Adam(self.parameters(), lr=self.hparams.lr)\n",
    "        return opt"
   ]
  },
  {
   "cell_type": "code",
   "execution_count": null,
   "metadata": {},
   "outputs": [],
   "source": [
    "#export\n",
    "class Model(LightningModule):\n",
    "    def __init__(self, lr=1e-2, wd=0., n_out=7, concat_pool=True, arch='resnet50', loss_func=None, verbose=True):\n",
    "        super().__init__()\n",
    "        self.save_hyperparameters()\n",
    "        # create body\n",
    "        body, self.split, num_ftrs = create_body(arch)\n",
    "        \n",
    "        # create head\n",
    "        head = create_head(num_ftrs, n_out)\n",
    "        \n",
    "        #model\n",
    "        self.model = nn.Sequential(body, head)\n",
    "        apply_init(self.model[1])\n",
    "        \n",
    "        # Setup so that batchnorm will not be freeze.\n",
    "        for p in get_bias_batchnorm_params(self.model, False):\n",
    "            p.force_train = True\n",
    "        # Setup so that biases and batchnorm will skip weight decay.\n",
    "        for p in get_bias_batchnorm_params(self.model, True):\n",
    "            p.skip_wd = True\n",
    "\n",
    "        n_groups = self.create_opt(torch.optim.Adam, None)\n",
    "        freeze(self, n_groups)\n",
    "        \n",
    "        self.loss_func = loss_func\n",
    "        if self.loss_func is None:\n",
    "            self.loss_func = F.cross_entropy\n",
    "\n",
    "    def forward(self, x):\n",
    "        return self.model(x)\n",
    "    \n",
    "    def exclude_params_with_attrib(self, splits, skip_list=['skip_wd']):\n",
    "        includes = []\n",
    "        excludes = []\n",
    "        for param_group in splits:\n",
    "            ins, exs = [], []\n",
    "            for param in param_group:\n",
    "                if not param.requires_grad:\n",
    "                    continue\n",
    "                elif any(getattr(param, attrib, False) for attrib in skip_list):\n",
    "                    exs.append(param)\n",
    "                else:\n",
    "                    ins.append(param)\n",
    "            includes.append(ins)\n",
    "            excludes.append(exs)\n",
    "        \n",
    "        if self.hparams.verbose:\n",
    "            print('Total splits = ', len(excludes))\n",
    "            for i in range(len(excludes)):\n",
    "                print(f'Split {i+1}: {len(excludes[i])} layers are excluded.')\n",
    "\n",
    "        return includes + excludes\n",
    "\n",
    "    def get_params(self, split_bn=True):\n",
    "        if split_bn:\n",
    "            splits = self.split(self.model)\n",
    "            return self.exclude_params_with_attrib(splits)\n",
    "        else:\n",
    "            return self.split(self.model)\n",
    "\n",
    "    def shared_step(self, batch, batch_id):\n",
    "        x, y = batch['img'], batch['label']\n",
    "        y_hat = self(x)\n",
    "        return self.loss_func(y_hat, y), (y_hat, y)\n",
    "\n",
    "    def training_step(self, batch, batch_idx):\n",
    "        loss, _ = self.shared_step(batch, batch_idx)\n",
    "        result = pl.TrainResult(minimize=loss)\n",
    "        result.log('train_loss', loss)\n",
    "        return result\n",
    "\n",
    "    def validation_step(self, batch, batch_idx):\n",
    "        loss, (y_hat, y) = self.shared_step(batch, batch_idx)\n",
    "        result = pl.EvalResult()\n",
    "        result.y = y\n",
    "        result.y_hat = y_hat\n",
    "        result.loss = loss\n",
    "        return result\n",
    "\n",
    "    def calc_and_log_metrics(self, y_hat, y):\n",
    "        acc = FM.accuracy(y_hat, y, num_classes=7)\n",
    "        preds = y_hat.argmax(1)\n",
    "        precision, recall = FM.precision_recall(y_hat, y, num_classes=7)\n",
    "        f1 = FM.f1_score(y_hat, y, num_classes=7)\n",
    "        prec_arr, recall_arr = FM.precision_recall(y_hat, y, num_classes=7, reduction='none')\n",
    "\n",
    "        result = pl.EvalResult()\n",
    "        result.log('val_acc', acc, prog_bar=True)\n",
    "        result.log('val_precision', precision, prog_bar=True)\n",
    "        result.log('val_recall', recall, prog_bar=True)\n",
    "        result.log('F1', f1, prog_bar=True)\n",
    "        metrics = {\n",
    "            \"precision\": prec_arr,\n",
    "            \"recall\": recall_arr,\n",
    "        }\n",
    "        log_metrics_per_key(result, metrics)\n",
    "        return result\n",
    "\n",
    "    def validation_epoch_end(self, out):\n",
    "        avg_val_loss = out.loss.mean()\n",
    "\n",
    "        result = self.calc_and_log_metrics(out.y_hat, out.y)\n",
    "        result.log('val_loss', avg_val_loss, prog_bar=True)\n",
    "\n",
    "        return result\n",
    "\n",
    "    def test_step(self, batch, batch_idx):\n",
    "        _, (y_hat, y) = self.shared_step(batch, batch_idx)\n",
    "        result = pl.EvalResult()\n",
    "        result.y = y\n",
    "        result.y_hat = y_hat\n",
    "        return result\n",
    "\n",
    "    def test_epoch_end(self, out):        \n",
    "        result = self.calc_and_log_metrics(out.y_hat, out.y)\n",
    "        torch.save(out.y_hat.cpu(), 'preds.pt')\n",
    "        torch.save(out.y.cpu(), 'labels.pt')\n",
    "\n",
    "        return result\n",
    "\n",
    "    def create_opt(self, opt_func, sched_func, lr=None, wd=None, skip_bn_wd=True):\n",
    "        if lr is None:\n",
    "            lr = self.hparams.lr\n",
    "        if wd is None:\n",
    "            wd = self.hparams.wd\n",
    "\n",
    "        param_groups = self.get_params(skip_bn_wd)        \n",
    "        n_groups = real_n_groups = len(param_groups)\n",
    "        if skip_bn_wd:\n",
    "            # There are duplicates since we split the batchnorms out of it.\n",
    "            n_groups //= 2\n",
    "\n",
    "        def _inner():\n",
    "            if self.hparams.verbose:\n",
    "                print('Overriding_configure_optimizer...')\n",
    "            \n",
    "            lrs = generate_val_steps(lr, n_groups)\n",
    "            if skip_bn_wd:\n",
    "                lrs += lrs\n",
    "            assert len(lrs) == real_n_groups, f\"Trying to set {len(lrs)} values for LR but there are {n_groups} parameter groups.\"\n",
    "\n",
    "            grps = []\n",
    "            for i, (pg, pg_lr) in enumerate(zip(param_groups, lrs)):\n",
    "                grps.append({\n",
    "                    \"params\": pg,\n",
    "                    \"lr\": pg_lr,\n",
    "                    \"weight_decay\": wd if i < n_groups else 0.\n",
    "                })\n",
    "            \n",
    "            if self.hparams.verbose:\n",
    "                print('LRs for each layer:', lrs)\n",
    "            \n",
    "            # Create a dummy optimizer, lr will be corrected by the scheduler.\n",
    "            opt = opt_func(grps, lr=self.hparams.lr if isinstance(lr, slice) else lr)\n",
    "            if sched_func is not None:\n",
    "                scheduler = sched_func(opt, max_lr=lrs)\n",
    "                sched = {\n",
    "                    'scheduler': scheduler, # The LR schduler\n",
    "                    'interval': 'step', # The unit of the scheduler's step size\n",
    "                    'frequency': 1, # The frequency of the scheduler\n",
    "                    'reduce_on_plateau': False, # For ReduceLROnPlateau scheduler\n",
    "                }\n",
    "                return [opt], [sched]\n",
    "            # Not use sched_func\n",
    "            return [opt]\n",
    "\n",
    "        self.configure_optimizers = _inner\n",
    "        return n_groups"
   ]
  },
  {
   "cell_type": "code",
   "execution_count": null,
   "metadata": {},
   "outputs": [],
   "source": [
    "#export\n",
    "def fit_one_cycle(epochs, model, datamodule, opt='Adam', max_lr=None, pct_start=0.25, \n",
    "                  div_factor=25., final_div_factor=1e5, wd=None, \n",
    "                  skip_bn_wd=True, max_momentum=0.95, base_momentum=0.85, **kwargs):\n",
    "    if isinstance(opt, str):\n",
    "        opt_func = getattr(torch.optim, opt, False)\n",
    "        if not opt_func:\n",
    "            raise Exception(\"Invalid optimizer, please pass correct name string as in pytorch.optim.\")\n",
    "    else:\n",
    "        opt_func = opt\n",
    "    sched_func = torch.optim.lr_scheduler.OneCycleLR\n",
    "    steps_epoch = len(datamodule.train_dataloader())\n",
    "    sched = partial(sched_func, epochs=epochs, steps_per_epoch=steps_epoch, pct_start=pct_start, \n",
    "                    div_factor=div_factor, final_div_factor=final_div_factor,\n",
    "                    base_momentum=base_momentum, max_momentum=max_momentum)\n",
    "    model.create_opt(opt_func, sched, lr=max_lr, wd=wd)\n",
    "    trainer = pl.Trainer(max_epochs=epochs, **kwargs)\n",
    "    trainer.fit(model, datamodule)\n",
    "    return trainer"
   ]
  },
  {
   "cell_type": "code",
   "execution_count": null,
   "metadata": {},
   "outputs": [],
   "source": [
    "message_formater = \"You have set {0} number of classes if different from predicted {0} and target {0} number of classes\"\n",
    "warnings.filterwarnings(\"ignore\", message_formater.format(\"(.*)\"), category=UserWarning)"
   ]
  },
  {
   "cell_type": "code",
   "execution_count": null,
   "metadata": {},
   "outputs": [],
   "source": [
    "dm = SkinDataModule()\n",
    "dm.prepare_data()\n",
    "dm.setup('fit')"
   ]
  },
  {
   "cell_type": "code",
   "execution_count": null,
   "metadata": {},
   "outputs": [],
   "source": [
    "F_EPOCHS = 1\n",
    "U_EPOCHS = 1\n",
    "LR = 1e-2"
   ]
  },
  {
   "cell_type": "code",
   "execution_count": null,
   "metadata": {},
   "outputs": [
    {
     "name": "stdout",
     "output_type": "stream",
     "text": [
      "Total splits =  3\n",
      "Split 1: 20 layers are excluded.\n",
      "Split 2: 20 layers are excluded.\n",
      "Split 3: 4 layers are excluded.\n"
     ]
    }
   ],
   "source": [
    "# init model\n",
    "model = Model(LR, arch='resnet18')"
   ]
  },
  {
   "cell_type": "code",
   "execution_count": null,
   "metadata": {},
   "outputs": [],
   "source": [
    "check_attrib_module(model)"
   ]
  },
  {
   "cell_type": "code",
   "execution_count": null,
   "metadata": {},
   "outputs": [],
   "source": [
    "lr_find(model, dm,fast_dev_run=True,verbose=True)"
   ]
  },
  {
   "cell_type": "code",
   "execution_count": null,
   "metadata": {},
   "outputs": [
    {
     "name": "stderr",
     "output_type": "stream",
     "text": [
      "GPU available: False, used: False\n",
      "TPU available: False, using: 0 TPU cores\n"
     ]
    }
   ],
   "source": [
    "cbs = [LogTableMetricsCallback(), HyperparamsLogger()]\n",
    "trainer = fit_one_cycle(F_EPOCHS, model, dm, max_lr=LR, callbacks=cbs, fast_dev_run=False, limit_val_batches=0, limit_train_batches=0.01)"
   ]
  },
  {
   "cell_type": "code",
   "execution_count": null,
   "metadata": {},
   "outputs": [],
   "source": [
    "unfreeze(model, 3)"
   ]
  },
  {
   "cell_type": "code",
   "execution_count": null,
   "metadata": {},
   "outputs": [
    {
     "name": "stderr",
     "output_type": "stream",
     "text": [
      "Running in fast_dev_run mode: will run a full train, val and test loop using a single batch\n",
      "GPU available: False, used: False\n",
      "TPU available: False, using: 0 TPU cores\n"
     ]
    }
   ],
   "source": [
    "# Unfreeze training\n",
    "trainer = fit_one_cycle(callbacks=cbs, fast_dev_run=False, limit_val_batches=0, limit_train_batches=0.01)"
   ]
  },
  {
   "cell_type": "code",
   "execution_count": null,
   "metadata": {},
   "outputs": [
    {
     "name": "stderr",
     "output_type": "stream",
     "text": [
      "\n",
      "  | Name      | Type             | Params\n",
      "-----------------------------------------------\n",
      "0 | model     | Sequential       | 25 M  \n",
      "1 | loss_func | CrossEntropyLoss | 0     \n"
     ]
    },
    {
     "name": "stdout",
     "output_type": "stream",
     "text": [
      "override_called\n",
      "wtf\n"
     ]
    },
    {
     "data": {
      "application/vnd.jupyter.widget-view+json": {
       "model_id": "a3447eb291f94446941044767a951eef",
       "version_major": 2,
       "version_minor": 0
      },
      "text/plain": [
       "HBox(children=(FloatProgress(value=1.0, bar_style='info', description='Training', layout=Layout(flex='2'), max…"
      ]
     },
     "metadata": {},
     "output_type": "display_data"
    },
    {
     "data": {
      "application/vnd.jupyter.widget-view+json": {
       "model_id": "",
       "version_major": 2,
       "version_minor": 0
      },
      "text/plain": [
       "HBox(children=(FloatProgress(value=1.0, bar_style='info', description='Validating', layout=Layout(flex='2'), m…"
      ]
     },
     "metadata": {},
     "output_type": "display_data"
    },
    {
     "data": {
      "text/html": [
       "<table border=\"1\" class=\"dataframe\">\n",
       "  <thead>\n",
       "    <tr style=\"text-align: left;\">\n",
       "      <th>epoch</th>\n",
       "      <th>train_loss</th>\n",
       "      <th>train_acc</th>\n",
       "      <th>val_loss</th>\n",
       "      <th>val_acc</th>\n",
       "    </tr>\n",
       "  </thead>\n",
       "  <tbody>\n",
       "    <tr>\n",
       "      <td>1</td>\n",
       "      <td>3.256</td>\n",
       "      <td>0.156250</td>\n",
       "      <td>4.279556</td>\n",
       "      <td>0.000000</td>\n",
       "    </tr>\n",
       "  </tbody>\n",
       "</table><p>"
      ],
      "text/plain": [
       "<IPython.core.display.HTML object>"
      ]
     },
     "metadata": {},
     "output_type": "display_data"
    },
    {
     "name": "stderr",
     "output_type": "stream",
     "text": [
      "Saving latest checkpoint..\n"
     ]
    },
    {
     "name": "stdout",
     "output_type": "stream",
     "text": [
      "\n"
     ]
    },
    {
     "data": {
      "text/plain": [
       "1"
      ]
     },
     "execution_count": null,
     "metadata": {},
     "output_type": "execute_result"
    }
   ],
   "source": [
    "trainer.fit(model, dm)"
   ]
  },
  {
   "cell_type": "code",
   "execution_count": null,
   "metadata": {},
   "outputs": [],
   "source": [
    "%load_ext tensorboard"
   ]
  },
  {
   "cell_type": "code",
   "execution_count": null,
   "metadata": {},
   "outputs": [
    {
     "data": {
      "text/plain": [
       "Reusing TensorBoard on port 6006 (pid 4636), started 4 days, 18:33:26 ago. (Use '!kill 4636' to kill it.)"
      ]
     },
     "metadata": {},
     "output_type": "display_data"
    },
    {
     "data": {
      "text/html": [
       "\n",
       "      <iframe id=\"tensorboard-frame-7752bba96d9fd24c\" width=\"100%\" height=\"800\" frameborder=\"0\">\n",
       "      </iframe>\n",
       "      <script>\n",
       "        (function() {\n",
       "          const frame = document.getElementById(\"tensorboard-frame-7752bba96d9fd24c\");\n",
       "          const url = new URL(\"/\", window.location);\n",
       "          url.port = 6006;\n",
       "          frame.src = url;\n",
       "        })();\n",
       "      </script>\n",
       "  "
      ],
      "text/plain": [
       "<IPython.core.display.HTML object>"
      ]
     },
     "metadata": {},
     "output_type": "display_data"
    }
   ],
   "source": [
    "%tensorboard --logdir=lightning_logs/"
   ]
  },
  {
   "cell_type": "code",
   "execution_count": null,
   "metadata": {},
   "outputs": [
    {
     "name": "stdout",
     "output_type": "stream",
     "text": [
      "Converted model.ipynb.\n"
     ]
    }
   ],
   "source": [
    "from nbdev.export import *\n",
    "notebook2script('model.ipynb')"
   ]
  },
  {
   "cell_type": "code",
   "execution_count": null,
   "metadata": {},
   "outputs": [],
   "source": []
  }
 ],
 "metadata": {
  "kernelspec": {
   "display_name": "Python 3",
   "language": "python",
   "name": "python3"
  }
 },
 "nbformat": 4,
 "nbformat_minor": 4
}
