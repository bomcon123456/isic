{
 "cells": [
  {
   "cell_type": "code",
   "execution_count": null,
   "metadata": {},
   "outputs": [],
   "source": [
    "# default_exp model"
   ]
  },
  {
   "cell_type": "markdown",
   "metadata": {},
   "source": [
    "# Models\n",
    "\n",
    "> API details."
   ]
  },
  {
   "cell_type": "code",
   "execution_count": null,
   "metadata": {},
   "outputs": [],
   "source": [
    "%load_ext autoreload\n",
    "%autoreload 2\n",
    "\n",
    "import matplotlib as mpl\n",
    "%matplotlib inline"
   ]
  },
  {
   "cell_type": "code",
   "execution_count": null,
   "metadata": {},
   "outputs": [
    {
     "name": "stderr",
     "output_type": "stream",
     "text": [
      "C:\\Users\\bomco\\miniconda3\\envs\\devtorch\\lib\\site-packages\\pytorch_lightning\\utilities\\distributed.py:37: UserWarning: Unsupported `ReduceOp` for distributed computing.\n",
      "  warnings.warn(*args, **kwargs)\n"
     ]
    }
   ],
   "source": [
    "#export\n",
    "import warnings\n",
    "import re\n",
    "\n",
    "import torch\n",
    "import torch.nn as nn\n",
    "import torch.nn.functional as F\n",
    "import torchvision.models as models\n",
    "\n",
    "import pytorch_lightning as pl\n",
    "from pytorch_lightning.core import LightningModule\n",
    "from pytorch_lightning.metrics import functional as FM"
   ]
  },
  {
   "cell_type": "code",
   "execution_count": null,
   "metadata": {},
   "outputs": [],
   "source": [
    "#export\n",
    "from isic.dataset import SkinDataModule\n",
    "from isic.layers import LabelSmoothingCrossEntropy\n",
    "from isic.callback.hyperlogger import HyperparamsLogger\n",
    "from isic.callback.logtable import LogTableMetricsCallback\n",
    "from isic.callback.mixup import MixupDict\n",
    "from isic.callback.cutmix import CutmixDict\n",
    "from isic.callback.freeze import FreezeCallback, UnfreezeCallback\n",
    "from isic.utils.core import reduce_loss, generate_val_steps\n",
    "from isic.utils.model import apply_init, get_bias_batchnorm_params, apply_leaf, check_attrib_module, create_body, create_head, lr_find, freeze, unfreeze"
   ]
  },
  {
   "cell_type": "code",
   "execution_count": null,
   "metadata": {},
   "outputs": [],
   "source": [
    "#export\n",
    "class Model(LightningModule):\n",
    "    def __init__(self, lr=1e-2, wd=0., n_out=7, concat_pool=True, arch='resnet50'):\n",
    "        super().__init__()\n",
    "        self.save_hyperparameters()\n",
    "        # create body\n",
    "        body, self.split, num_ftrs = create_body(arch)\n",
    "        \n",
    "        # create head\n",
    "        head = create_head(num_ftrs, n_out)\n",
    "        \n",
    "        #model\n",
    "        self.model = nn.Sequential(body, head)\n",
    "        apply_init(self.model[1])\n",
    "        \n",
    "        # Setup so that batchnorm will not be freeze.\n",
    "        for p in get_bias_batchnorm_params(self.model, False):\n",
    "            p.force_train = True\n",
    "        # Setup so that biases and batchnorm will skip weight decay.\n",
    "        for p in get_bias_batchnorm_params(self.model, True):\n",
    "            p.skip_wd = True\n",
    "        \n",
    "        self.loss_func = LabelSmoothingCrossEntropy()\n",
    "\n",
    "    def exclude_params_with_attrib(self, splits, skip_list=['skip_wd']):\n",
    "        includes = []\n",
    "        excludes = []\n",
    "        for param_group in splits:\n",
    "            ins, exs = [], []\n",
    "            for param in param_group:\n",
    "                if not param.requires_grad:\n",
    "                    continue\n",
    "                elif any(getattr(param, attrib, False) for attrib in skip_list):\n",
    "                    exs.append(param)\n",
    "                else:\n",
    "                    ins.append(param)\n",
    "            includes.append(ins)\n",
    "            excludes.append(exs)\n",
    "        return includes + excludes\n",
    "\n",
    "    def get_params(self, split_bn=True):\n",
    "        if split_bn:\n",
    "            splits = self.split(self.model)\n",
    "            return self.exclude_params_with_attrib(splits)\n",
    "        else:\n",
    "            return self.split(self.model)\n",
    "\n",
    "    def forward(self, x):\n",
    "        return self.model(x)\n",
    "\n",
    "    def training_step(self, batch, batch_idx):\n",
    "        x, y = batch['img'], batch['label']\n",
    "        y_hat = self(x)\n",
    "        loss = self.loss_func(y_hat, y)\n",
    "        acc = FM.accuracy(y_hat, y, num_classes=7)\n",
    "        result = pl.TrainResult(minimize=loss)\n",
    "        result.log('train_loss', loss)\n",
    "        result.log('train_acc', acc, prog_bar=True)\n",
    "        return result\n",
    "\n",
    "    def validation_step(self, batch, batch_idx):\n",
    "        x, y = batch['img'], batch['label']\n",
    "        y_hat = self(x)\n",
    "        loss = self.loss_func(y_hat, y)\n",
    "        acc = FM.accuracy(y_hat, y, num_classes=7)\n",
    "        result = pl.EvalResult(checkpoint_on=loss)\n",
    "        result.log('val_loss', loss, prog_bar=True) \n",
    "        result.log('val_acc', acc, prog_bar=True)\n",
    "        return result\n",
    "    \n",
    "    def create_opt(self, lr=None, skip_bn_wd=True, epochs=None, steps_epoch=None):\n",
    "        if lr is None:\n",
    "            lr = self.hparams.lr\n",
    "        if (epochs is None and self.epochs is None) or (steps_epoch is None and self.steps_epoch is None):\n",
    "            raise Exception(\"You should pass epochs/steps_epoch at least one time in create_opt.\")\n",
    "        if epochs is None:\n",
    "            epochs = self.epochs\n",
    "        else:\n",
    "            self.epochs = epochs\n",
    "        if step_epoch is None:\n",
    "            step_epoch = self.step_epoch\n",
    "        else:\n",
    "            self.step_epoch = step_epoch\n",
    "\n",
    "        param_groups = self.get_params(skip_bn_wd)\n",
    "        \n",
    "        n_groups = real_n_groups = len(param_groups)\n",
    "        if skip_bn_wd:\n",
    "            # There are duplicates since we split the batchnorms out of it.\n",
    "            n_groups //= 2\n",
    "\n",
    "        def _inner():\n",
    "            print('override_called')\n",
    "            \n",
    "            lrs = generate_val_steps(lr, n_groups)\n",
    "            if skip_bn_wd:\n",
    "                lrs += lrs\n",
    "            assert len(lrs) == real_n_groups, f\"Trying to set {len(lrs)} values for LR but there are {n_groups} parameter groups.\"\n",
    "\n",
    "            grps = []\n",
    "            for i, (pg, l) in enumerate(zip(param_groups, lrs)):\n",
    "                grps.append({\n",
    "                    \"params\": pg,\n",
    "                    \"lr\": l,\n",
    "                    \"weight_decay\": self.hparams.wd if i < n_groups else 0.\n",
    "                })\n",
    "            \n",
    "            print(lrs)\n",
    "            opt = torch.optim.Adam(grps, \n",
    "                        lr=self.hparams.lr\n",
    "            )\n",
    "            scheduler = torch.optim.lr_scheduler.OneCycleLR(opt, max_lr=lrs, steps_per_epoch=steps_epoch, epochs=epochs)\n",
    "            sched = {\n",
    "                'scheduler': scheduler, # The LR schduler\n",
    "                'interval': 'step', # The unit of the scheduler's step size\n",
    "                'frequency': 1, # The frequency of the scheduler\n",
    "                'reduce_on_plateau': False, # For ReduceLROnPlateau scheduler\n",
    "            }\n",
    "            return [opt], [sched]\n",
    "        self.configure_optimizers = _inner\n",
    "        return n_groups"
   ]
  },
  {
   "cell_type": "code",
   "execution_count": null,
   "metadata": {},
   "outputs": [],
   "source": [
    "message_formater = \"You have set {0} number of classes if different from predicted {0} and target {0} number of classes\"\n",
    "warnings.filterwarnings(\"ignore\", message_formater.format(\"(.*)\"), category=UserWarning)"
   ]
  },
  {
   "cell_type": "code",
   "execution_count": null,
   "metadata": {},
   "outputs": [],
   "source": [
    "dm = SkinDataModule()\n",
    "dm.prepare_data()\n",
    "dm.setup('fit')"
   ]
  },
  {
   "cell_type": "code",
   "execution_count": null,
   "metadata": {},
   "outputs": [],
   "source": [
    "EPOCHS = 10\n",
    "STEPS_EPOCH = 1\n",
    "lr = 1e-2"
   ]
  },
  {
   "cell_type": "code",
   "execution_count": null,
   "metadata": {},
   "outputs": [
    {
     "name": "stdout",
     "output_type": "stream",
     "text": [
      "torch.Size([1, 512, 2, 2])\n"
     ]
    }
   ],
   "source": [
    "# init model\n",
    "model = Model(lr, arch='resnet18')\n",
    "\n",
    "# # Freeze model\n",
    "# n_groups = model.create_opt(steps_epoch=STEPS_EPOCH, epochs=EPOCHS, lr=lr, skip_bn_wd=True)\n",
    "# freeze(model, n_groups)"
   ]
  },
  {
   "cell_type": "code",
   "execution_count": null,
   "metadata": {},
   "outputs": [
    {
     "name": "stderr",
     "output_type": "stream",
     "text": [
      "Running in fast_dev_run mode: will run a full train, val and test loop using a single batch\n",
      "GPU available: False, used: False\n",
      "TPU available: False, using: 0 TPU cores\n",
      "C:\\Users\\bomco\\miniconda3\\envs\\devtorch\\lib\\site-packages\\pytorch_lightning\\utilities\\distributed.py:37: UserWarning: Could not log computational graph since the `model.example_input_array` attribute is not set or `input_array` was not given\n",
      "  warnings.warn(*args, **kwargs)\n",
      "\n",
      "  | Name      | Type                       | Params\n",
      "---------------------------------------------------------\n",
      "0 | model     | Sequential                 | 11 M  \n",
      "1 | loss_func | LabelSmoothingCrossEntropy | 0     \n"
     ]
    },
    {
     "name": "stdout",
     "output_type": "stream",
     "text": [
      "override_called\n",
      "[0.01, 0.01, 0.01, 0.01, 0.01, 0.01]\n"
     ]
    },
    {
     "data": {
      "application/vnd.jupyter.widget-view+json": {
       "model_id": "c76752c3810b4d1b980f65a6474cbb43",
       "version_major": 2,
       "version_minor": 0
      },
      "text/plain": [
       "HBox(children=(FloatProgress(value=1.0, bar_style='info', description='Training', layout=Layout(flex='2'), max…"
      ]
     },
     "metadata": {},
     "output_type": "display_data"
    },
    {
     "data": {
      "application/vnd.jupyter.widget-view+json": {
       "model_id": "",
       "version_major": 2,
       "version_minor": 0
      },
      "text/plain": [
       "HBox(children=(FloatProgress(value=1.0, bar_style='info', description='Validating', layout=Layout(flex='2'), m…"
      ]
     },
     "metadata": {},
     "output_type": "display_data"
    },
    {
     "name": "stderr",
     "output_type": "stream",
     "text": [
      "Saving latest checkpoint..\n"
     ]
    },
    {
     "name": "stdout",
     "output_type": "stream",
     "text": [
      "\n",
      "Adam (\n",
      "Parameter Group 0\n",
      "    amsgrad: False\n",
      "    base_momentum: 0.85\n",
      "    betas: (0.8999999999999999, 0.999)\n",
      "    eps: 1e-08\n",
      "    initial_lr: 0.0004\n",
      "    lr: 0.0052\n",
      "    max_lr: 0.01\n",
      "    max_momentum: 0.95\n",
      "    min_lr: 4e-08\n",
      "    weight_decay: 0.0\n",
      "\n",
      "Parameter Group 1\n",
      "    amsgrad: False\n",
      "    base_momentum: 0.85\n",
      "    betas: (0.8999999999999999, 0.999)\n",
      "    eps: 1e-08\n",
      "    initial_lr: 0.0004\n",
      "    lr: 0.0052\n",
      "    max_lr: 0.01\n",
      "    max_momentum: 0.95\n",
      "    min_lr: 4e-08\n",
      "    weight_decay: 0.0\n",
      "\n",
      "Parameter Group 2\n",
      "    amsgrad: False\n",
      "    base_momentum: 0.85\n",
      "    betas: (0.8999999999999999, 0.999)\n",
      "    eps: 1e-08\n",
      "    initial_lr: 0.0004\n",
      "    lr: 0.0052\n",
      "    max_lr: 0.01\n",
      "    max_momentum: 0.95\n",
      "    min_lr: 4e-08\n",
      "    weight_decay: 0.0\n",
      "\n",
      "Parameter Group 3\n",
      "    amsgrad: False\n",
      "    base_momentum: 0.85\n",
      "    betas: (0.8999999999999999, 0.999)\n",
      "    eps: 1e-08\n",
      "    initial_lr: 0.0004\n",
      "    lr: 0.0052\n",
      "    max_lr: 0.01\n",
      "    max_momentum: 0.95\n",
      "    min_lr: 4e-08\n",
      "    weight_decay: 0.0\n",
      "\n",
      "Parameter Group 4\n",
      "    amsgrad: False\n",
      "    base_momentum: 0.85\n",
      "    betas: (0.8999999999999999, 0.999)\n",
      "    eps: 1e-08\n",
      "    initial_lr: 0.0004\n",
      "    lr: 0.0052\n",
      "    max_lr: 0.01\n",
      "    max_momentum: 0.95\n",
      "    min_lr: 4e-08\n",
      "    weight_decay: 0.0\n",
      "\n",
      "Parameter Group 5\n",
      "    amsgrad: False\n",
      "    base_momentum: 0.85\n",
      "    betas: (0.8999999999999999, 0.999)\n",
      "    eps: 1e-08\n",
      "    initial_lr: 0.0004\n",
      "    lr: 0.0052\n",
      "    max_lr: 0.01\n",
      "    max_momentum: 0.95\n",
      "    min_lr: 4e-08\n",
      "    weight_decay: 0.0\n",
      ")\n",
      "******************************Check requires_grad******************************\n",
      "Conv2d(3, 64, kernel_size=(7, 7), stride=(2, 2), padding=(3, 3), bias=False)\n",
      "['weight-False']\n",
      "BatchNorm2d(64, eps=1e-05, momentum=0.1, affine=True, track_running_stats=True)\n",
      "['weight-True', 'bias-True']\n",
      "ReLU(inplace=True)\n",
      "[]\n",
      "MaxPool2d(kernel_size=3, stride=2, padding=1, dilation=1, ceil_mode=False)\n",
      "[]\n",
      "Conv2d(64, 64, kernel_size=(3, 3), stride=(1, 1), padding=(1, 1), bias=False)\n",
      "['weight-False']\n",
      "BatchNorm2d(64, eps=1e-05, momentum=0.1, affine=True, track_running_stats=True)\n",
      "['weight-True', 'bias-True']\n",
      "ReLU(inplace=True)\n",
      "[]\n",
      "Conv2d(64, 64, kernel_size=(3, 3), stride=(1, 1), padding=(1, 1), bias=False)\n",
      "['weight-False']\n",
      "BatchNorm2d(64, eps=1e-05, momentum=0.1, affine=True, track_running_stats=True)\n",
      "['weight-True', 'bias-True']\n",
      "Conv2d(64, 64, kernel_size=(3, 3), stride=(1, 1), padding=(1, 1), bias=False)\n",
      "['weight-False']\n",
      "BatchNorm2d(64, eps=1e-05, momentum=0.1, affine=True, track_running_stats=True)\n",
      "['weight-True', 'bias-True']\n",
      "ReLU(inplace=True)\n",
      "[]\n",
      "Conv2d(64, 64, kernel_size=(3, 3), stride=(1, 1), padding=(1, 1), bias=False)\n",
      "['weight-False']\n",
      "BatchNorm2d(64, eps=1e-05, momentum=0.1, affine=True, track_running_stats=True)\n",
      "['weight-True', 'bias-True']\n",
      "Conv2d(64, 128, kernel_size=(3, 3), stride=(2, 2), padding=(1, 1), bias=False)\n",
      "['weight-False']\n",
      "BatchNorm2d(128, eps=1e-05, momentum=0.1, affine=True, track_running_stats=True)\n",
      "['weight-True', 'bias-True']\n",
      "ReLU(inplace=True)\n",
      "[]\n",
      "Conv2d(128, 128, kernel_size=(3, 3), stride=(1, 1), padding=(1, 1), bias=False)\n",
      "['weight-False']\n",
      "BatchNorm2d(128, eps=1e-05, momentum=0.1, affine=True, track_running_stats=True)\n",
      "['weight-True', 'bias-True']\n",
      "Conv2d(64, 128, kernel_size=(1, 1), stride=(2, 2), bias=False)\n",
      "['weight-False']\n",
      "BatchNorm2d(128, eps=1e-05, momentum=0.1, affine=True, track_running_stats=True)\n",
      "['weight-True', 'bias-True']\n",
      "Conv2d(128, 128, kernel_size=(3, 3), stride=(1, 1), padding=(1, 1), bias=False)\n",
      "['weight-False']\n",
      "BatchNorm2d(128, eps=1e-05, momentum=0.1, affine=True, track_running_stats=True)\n",
      "['weight-True', 'bias-True']\n",
      "ReLU(inplace=True)\n",
      "[]\n",
      "Conv2d(128, 128, kernel_size=(3, 3), stride=(1, 1), padding=(1, 1), bias=False)\n",
      "['weight-False']\n",
      "BatchNorm2d(128, eps=1e-05, momentum=0.1, affine=True, track_running_stats=True)\n",
      "['weight-True', 'bias-True']\n",
      "Conv2d(128, 256, kernel_size=(3, 3), stride=(2, 2), padding=(1, 1), bias=False)\n",
      "['weight-False']\n",
      "BatchNorm2d(256, eps=1e-05, momentum=0.1, affine=True, track_running_stats=True)\n",
      "['weight-True', 'bias-True']\n",
      "ReLU(inplace=True)\n",
      "[]\n",
      "Conv2d(256, 256, kernel_size=(3, 3), stride=(1, 1), padding=(1, 1), bias=False)\n",
      "['weight-False']\n",
      "BatchNorm2d(256, eps=1e-05, momentum=0.1, affine=True, track_running_stats=True)\n",
      "['weight-True', 'bias-True']\n",
      "Conv2d(128, 256, kernel_size=(1, 1), stride=(2, 2), bias=False)\n",
      "['weight-False']\n",
      "BatchNorm2d(256, eps=1e-05, momentum=0.1, affine=True, track_running_stats=True)\n",
      "['weight-True', 'bias-True']\n",
      "Conv2d(256, 256, kernel_size=(3, 3), stride=(1, 1), padding=(1, 1), bias=False)\n",
      "['weight-False']\n",
      "BatchNorm2d(256, eps=1e-05, momentum=0.1, affine=True, track_running_stats=True)\n",
      "['weight-True', 'bias-True']\n",
      "ReLU(inplace=True)\n",
      "[]\n",
      "Conv2d(256, 256, kernel_size=(3, 3), stride=(1, 1), padding=(1, 1), bias=False)\n",
      "['weight-False']\n",
      "BatchNorm2d(256, eps=1e-05, momentum=0.1, affine=True, track_running_stats=True)\n",
      "['weight-True', 'bias-True']\n",
      "Conv2d(256, 512, kernel_size=(3, 3), stride=(2, 2), padding=(1, 1), bias=False)\n",
      "['weight-False']\n",
      "BatchNorm2d(512, eps=1e-05, momentum=0.1, affine=True, track_running_stats=True)\n",
      "['weight-True', 'bias-True']\n",
      "ReLU(inplace=True)\n",
      "[]\n",
      "Conv2d(512, 512, kernel_size=(3, 3), stride=(1, 1), padding=(1, 1), bias=False)\n",
      "['weight-False']\n",
      "BatchNorm2d(512, eps=1e-05, momentum=0.1, affine=True, track_running_stats=True)\n",
      "['weight-True', 'bias-True']\n",
      "Conv2d(256, 512, kernel_size=(1, 1), stride=(2, 2), bias=False)\n",
      "['weight-False']\n",
      "BatchNorm2d(512, eps=1e-05, momentum=0.1, affine=True, track_running_stats=True)\n",
      "['weight-True', 'bias-True']\n",
      "Conv2d(512, 512, kernel_size=(3, 3), stride=(1, 1), padding=(1, 1), bias=False)\n",
      "['weight-False']\n",
      "BatchNorm2d(512, eps=1e-05, momentum=0.1, affine=True, track_running_stats=True)\n",
      "['weight-True', 'bias-True']\n",
      "ReLU(inplace=True)\n",
      "[]\n",
      "Conv2d(512, 512, kernel_size=(3, 3), stride=(1, 1), padding=(1, 1), bias=False)\n",
      "['weight-False']\n",
      "BatchNorm2d(512, eps=1e-05, momentum=0.1, affine=True, track_running_stats=True)\n",
      "['weight-True', 'bias-True']\n",
      "--------------------------------------------------------------------------------\n",
      "AdaptiveAvgPool2d(output_size=1)\n",
      "[]\n",
      "AdaptiveMaxPool2d(output_size=1)\n",
      "[]\n",
      "Flatten()\n",
      "[]\n",
      "BatchNorm1d(1024, eps=1e-05, momentum=0.1, affine=True, track_running_stats=True)\n",
      "['weight-True', 'bias-True']\n",
      "Dropout(p=0.25, inplace=False)\n",
      "[]\n",
      "Linear(in_features=1024, out_features=512, bias=False)\n",
      "['weight-True']\n",
      "ReLU(inplace=True)\n",
      "[]\n",
      "BatchNorm1d(512, eps=1e-05, momentum=0.1, affine=True, track_running_stats=True)\n",
      "['weight-True', 'bias-True']\n",
      "Dropout(p=0.5, inplace=False)\n",
      "[]\n",
      "Linear(in_features=512, out_features=7, bias=False)\n",
      "['weight-True']\n",
      "******************************Check skip_wd******************************\n",
      "Conv2d(3, 64, kernel_size=(7, 7), stride=(2, 2), padding=(3, 3), bias=False)\n",
      "[]\n",
      "BatchNorm2d(64, eps=1e-05, momentum=0.1, affine=True, track_running_stats=True)\n",
      "['weight-True', 'bias-True']\n",
      "ReLU(inplace=True)\n",
      "[]\n",
      "MaxPool2d(kernel_size=3, stride=2, padding=1, dilation=1, ceil_mode=False)\n",
      "[]\n",
      "Conv2d(64, 64, kernel_size=(3, 3), stride=(1, 1), padding=(1, 1), bias=False)\n",
      "[]\n",
      "BatchNorm2d(64, eps=1e-05, momentum=0.1, affine=True, track_running_stats=True)\n",
      "['weight-True', 'bias-True']\n",
      "ReLU(inplace=True)\n",
      "[]\n",
      "Conv2d(64, 64, kernel_size=(3, 3), stride=(1, 1), padding=(1, 1), bias=False)\n",
      "[]\n",
      "BatchNorm2d(64, eps=1e-05, momentum=0.1, affine=True, track_running_stats=True)\n",
      "['weight-True', 'bias-True']\n",
      "Conv2d(64, 64, kernel_size=(3, 3), stride=(1, 1), padding=(1, 1), bias=False)\n",
      "[]\n",
      "BatchNorm2d(64, eps=1e-05, momentum=0.1, affine=True, track_running_stats=True)\n",
      "['weight-True', 'bias-True']\n",
      "ReLU(inplace=True)\n",
      "[]\n",
      "Conv2d(64, 64, kernel_size=(3, 3), stride=(1, 1), padding=(1, 1), bias=False)\n",
      "[]\n",
      "BatchNorm2d(64, eps=1e-05, momentum=0.1, affine=True, track_running_stats=True)\n",
      "['weight-True', 'bias-True']\n",
      "Conv2d(64, 128, kernel_size=(3, 3), stride=(2, 2), padding=(1, 1), bias=False)\n",
      "[]\n",
      "BatchNorm2d(128, eps=1e-05, momentum=0.1, affine=True, track_running_stats=True)\n",
      "['weight-True', 'bias-True']\n",
      "ReLU(inplace=True)\n",
      "[]\n",
      "Conv2d(128, 128, kernel_size=(3, 3), stride=(1, 1), padding=(1, 1), bias=False)\n",
      "[]\n",
      "BatchNorm2d(128, eps=1e-05, momentum=0.1, affine=True, track_running_stats=True)\n",
      "['weight-True', 'bias-True']\n",
      "Conv2d(64, 128, kernel_size=(1, 1), stride=(2, 2), bias=False)\n",
      "[]\n",
      "BatchNorm2d(128, eps=1e-05, momentum=0.1, affine=True, track_running_stats=True)\n",
      "['weight-True', 'bias-True']\n",
      "Conv2d(128, 128, kernel_size=(3, 3), stride=(1, 1), padding=(1, 1), bias=False)\n",
      "[]\n",
      "BatchNorm2d(128, eps=1e-05, momentum=0.1, affine=True, track_running_stats=True)\n",
      "['weight-True', 'bias-True']\n",
      "ReLU(inplace=True)\n",
      "[]\n",
      "Conv2d(128, 128, kernel_size=(3, 3), stride=(1, 1), padding=(1, 1), bias=False)\n",
      "[]\n",
      "BatchNorm2d(128, eps=1e-05, momentum=0.1, affine=True, track_running_stats=True)\n",
      "['weight-True', 'bias-True']\n",
      "Conv2d(128, 256, kernel_size=(3, 3), stride=(2, 2), padding=(1, 1), bias=False)\n",
      "[]\n",
      "BatchNorm2d(256, eps=1e-05, momentum=0.1, affine=True, track_running_stats=True)\n",
      "['weight-True', 'bias-True']\n",
      "ReLU(inplace=True)\n",
      "[]\n",
      "Conv2d(256, 256, kernel_size=(3, 3), stride=(1, 1), padding=(1, 1), bias=False)\n",
      "[]\n",
      "BatchNorm2d(256, eps=1e-05, momentum=0.1, affine=True, track_running_stats=True)\n",
      "['weight-True', 'bias-True']\n",
      "Conv2d(128, 256, kernel_size=(1, 1), stride=(2, 2), bias=False)\n",
      "[]\n",
      "BatchNorm2d(256, eps=1e-05, momentum=0.1, affine=True, track_running_stats=True)\n",
      "['weight-True', 'bias-True']\n",
      "Conv2d(256, 256, kernel_size=(3, 3), stride=(1, 1), padding=(1, 1), bias=False)\n",
      "[]\n",
      "BatchNorm2d(256, eps=1e-05, momentum=0.1, affine=True, track_running_stats=True)\n",
      "['weight-True', 'bias-True']\n",
      "ReLU(inplace=True)\n",
      "[]\n",
      "Conv2d(256, 256, kernel_size=(3, 3), stride=(1, 1), padding=(1, 1), bias=False)\n",
      "[]\n",
      "BatchNorm2d(256, eps=1e-05, momentum=0.1, affine=True, track_running_stats=True)\n",
      "['weight-True', 'bias-True']\n",
      "Conv2d(256, 512, kernel_size=(3, 3), stride=(2, 2), padding=(1, 1), bias=False)\n",
      "[]\n",
      "BatchNorm2d(512, eps=1e-05, momentum=0.1, affine=True, track_running_stats=True)\n",
      "['weight-True', 'bias-True']\n",
      "ReLU(inplace=True)\n",
      "[]\n",
      "Conv2d(512, 512, kernel_size=(3, 3), stride=(1, 1), padding=(1, 1), bias=False)\n",
      "[]\n",
      "BatchNorm2d(512, eps=1e-05, momentum=0.1, affine=True, track_running_stats=True)\n",
      "['weight-True', 'bias-True']\n",
      "Conv2d(256, 512, kernel_size=(1, 1), stride=(2, 2), bias=False)\n",
      "[]\n",
      "BatchNorm2d(512, eps=1e-05, momentum=0.1, affine=True, track_running_stats=True)\n",
      "['weight-True', 'bias-True']\n",
      "Conv2d(512, 512, kernel_size=(3, 3), stride=(1, 1), padding=(1, 1), bias=False)\n",
      "[]\n",
      "BatchNorm2d(512, eps=1e-05, momentum=0.1, affine=True, track_running_stats=True)\n",
      "['weight-True', 'bias-True']\n",
      "ReLU(inplace=True)\n",
      "[]\n",
      "Conv2d(512, 512, kernel_size=(3, 3), stride=(1, 1), padding=(1, 1), bias=False)\n",
      "[]\n",
      "BatchNorm2d(512, eps=1e-05, momentum=0.1, affine=True, track_running_stats=True)\n",
      "['weight-True', 'bias-True']\n",
      "--------------------------------------------------------------------------------\n",
      "AdaptiveAvgPool2d(output_size=1)\n",
      "[]\n",
      "AdaptiveMaxPool2d(output_size=1)\n",
      "[]\n",
      "Flatten()\n",
      "[]\n",
      "BatchNorm1d(1024, eps=1e-05, momentum=0.1, affine=True, track_running_stats=True)\n",
      "['weight-True', 'bias-True']\n",
      "Dropout(p=0.25, inplace=False)\n",
      "[]\n",
      "Linear(in_features=1024, out_features=512, bias=False)\n",
      "[]\n",
      "ReLU(inplace=True)\n",
      "[]\n",
      "BatchNorm1d(512, eps=1e-05, momentum=0.1, affine=True, track_running_stats=True)\n",
      "['weight-True', 'bias-True']\n",
      "Dropout(p=0.5, inplace=False)\n",
      "[]\n",
      "Linear(in_features=512, out_features=7, bias=False)\n",
      "[]\n"
     ]
    }
   ],
   "source": [
    "lr_find(model, dm,lr_find=False,verbose=True)"
   ]
  },
  {
   "cell_type": "code",
   "execution_count": null,
   "metadata": {},
   "outputs": [
    {
     "name": "stderr",
     "output_type": "stream",
     "text": [
      "GPU available: False, used: False\n",
      "TPU available: False, using: 0 TPU cores\n"
     ]
    }
   ],
   "source": [
    "trainer = pl.Trainer(max_epochs=EPOCHS, callbacks=[LogTableMetricsCallback(), HyperparamsLogger()], fast_dev_run=False, limit_val_batches=0, limit_train_batches=0.01)"
   ]
  },
  {
   "cell_type": "code",
   "execution_count": null,
   "metadata": {},
   "outputs": [
    {
     "name": "stderr",
     "output_type": "stream",
     "text": [
      "C:\\Users\\bomco\\miniconda3\\envs\\devtorch\\lib\\site-packages\\pytorch_lightning\\utilities\\distributed.py:37: UserWarning: Could not log computational graph since the `model.example_input_array` attribute is not set or `input_array` was not given\n",
      "  warnings.warn(*args, **kwargs)\n",
      "\n",
      "  | Name      | Type                       | Params\n",
      "---------------------------------------------------------\n",
      "0 | model     | Sequential                 | 25 M  \n",
      "1 | loss_func | LabelSmoothingCrossEntropy | 0     \n"
     ]
    },
    {
     "name": "stdout",
     "output_type": "stream",
     "text": [
      "override_called\n",
      "[0.0001, 0.0001, 0.001]\n"
     ]
    },
    {
     "data": {
      "application/vnd.jupyter.widget-view+json": {
       "model_id": "1dddef4695314378b8987c5ac4e6662e",
       "version_major": 2,
       "version_minor": 0
      },
      "text/plain": [
       "HBox(children=(FloatProgress(value=1.0, bar_style='info', description='Training', layout=Layout(flex='2'), max…"
      ]
     },
     "metadata": {},
     "output_type": "display_data"
    },
    {
     "name": "stderr",
     "output_type": "stream",
     "text": [
      "C:\\Users\\bomco\\miniconda3\\envs\\devtorch\\lib\\site-packages\\pytorch_lightning\\utilities\\distributed.py:37: UserWarning: Detected KeyboardInterrupt, attempting graceful shutdown...\n",
      "  warnings.warn(*args, **kwargs)\n",
      "Saving latest checkpoint..\n"
     ]
    },
    {
     "name": "stdout",
     "output_type": "stream",
     "text": [
      "\n"
     ]
    },
    {
     "data": {
      "text/plain": [
       "1"
      ]
     },
     "execution_count": null,
     "metadata": {},
     "output_type": "execute_result"
    }
   ],
   "source": [
    "trainer.fit(model, dm)"
   ]
  },
  {
   "cell_type": "code",
   "execution_count": null,
   "metadata": {},
   "outputs": [],
   "source": [
    "unfreeze(model, 3)"
   ]
  },
  {
   "cell_type": "code",
   "execution_count": null,
   "metadata": {},
   "outputs": [
    {
     "name": "stderr",
     "output_type": "stream",
     "text": [
      "Running in fast_dev_run mode: will run a full train, val and test loop using a single batch\n",
      "GPU available: False, used: False\n",
      "TPU available: False, using: 0 TPU cores\n"
     ]
    }
   ],
   "source": [
    "# Unfreeze training\n",
    "trainer = pl.Trainer(max_epochs=EPOCHS, callbacks=[LogTableMetricsCallback(), HyperparamsLogger()], fast_dev_run=True, limit_val_batches=0, limit_train_batches=0.01)\n",
    "model.create_opt(slice(5e-7, 3e-4))"
   ]
  },
  {
   "cell_type": "code",
   "execution_count": null,
   "metadata": {},
   "outputs": [
    {
     "name": "stderr",
     "output_type": "stream",
     "text": [
      "\n",
      "  | Name      | Type             | Params\n",
      "-----------------------------------------------\n",
      "0 | model     | Sequential       | 25 M  \n",
      "1 | loss_func | CrossEntropyLoss | 0     \n"
     ]
    },
    {
     "name": "stdout",
     "output_type": "stream",
     "text": [
      "override_called\n",
      "wtf\n"
     ]
    },
    {
     "data": {
      "application/vnd.jupyter.widget-view+json": {
       "model_id": "a3447eb291f94446941044767a951eef",
       "version_major": 2,
       "version_minor": 0
      },
      "text/plain": [
       "HBox(children=(FloatProgress(value=1.0, bar_style='info', description='Training', layout=Layout(flex='2'), max…"
      ]
     },
     "metadata": {},
     "output_type": "display_data"
    },
    {
     "data": {
      "application/vnd.jupyter.widget-view+json": {
       "model_id": "",
       "version_major": 2,
       "version_minor": 0
      },
      "text/plain": [
       "HBox(children=(FloatProgress(value=1.0, bar_style='info', description='Validating', layout=Layout(flex='2'), m…"
      ]
     },
     "metadata": {},
     "output_type": "display_data"
    },
    {
     "data": {
      "text/html": [
       "<table border=\"1\" class=\"dataframe\">\n",
       "  <thead>\n",
       "    <tr style=\"text-align: left;\">\n",
       "      <th>epoch</th>\n",
       "      <th>train_loss</th>\n",
       "      <th>train_acc</th>\n",
       "      <th>val_loss</th>\n",
       "      <th>val_acc</th>\n",
       "    </tr>\n",
       "  </thead>\n",
       "  <tbody>\n",
       "    <tr>\n",
       "      <td>1</td>\n",
       "      <td>3.256</td>\n",
       "      <td>0.156250</td>\n",
       "      <td>4.279556</td>\n",
       "      <td>0.000000</td>\n",
       "    </tr>\n",
       "  </tbody>\n",
       "</table><p>"
      ],
      "text/plain": [
       "<IPython.core.display.HTML object>"
      ]
     },
     "metadata": {},
     "output_type": "display_data"
    },
    {
     "name": "stderr",
     "output_type": "stream",
     "text": [
      "Saving latest checkpoint..\n"
     ]
    },
    {
     "name": "stdout",
     "output_type": "stream",
     "text": [
      "\n"
     ]
    },
    {
     "data": {
      "text/plain": [
       "1"
      ]
     },
     "execution_count": null,
     "metadata": {},
     "output_type": "execute_result"
    }
   ],
   "source": [
    "trainer.fit(model, dm)"
   ]
  },
  {
   "cell_type": "code",
   "execution_count": null,
   "metadata": {},
   "outputs": [],
   "source": [
    "%load_ext tensorboard"
   ]
  },
  {
   "cell_type": "code",
   "execution_count": null,
   "metadata": {},
   "outputs": [
    {
     "data": {
      "text/plain": [
       "Reusing TensorBoard on port 6006 (pid 4636), started 4 days, 18:33:26 ago. (Use '!kill 4636' to kill it.)"
      ]
     },
     "metadata": {},
     "output_type": "display_data"
    },
    {
     "data": {
      "text/html": [
       "\n",
       "      <iframe id=\"tensorboard-frame-7752bba96d9fd24c\" width=\"100%\" height=\"800\" frameborder=\"0\">\n",
       "      </iframe>\n",
       "      <script>\n",
       "        (function() {\n",
       "          const frame = document.getElementById(\"tensorboard-frame-7752bba96d9fd24c\");\n",
       "          const url = new URL(\"/\", window.location);\n",
       "          url.port = 6006;\n",
       "          frame.src = url;\n",
       "        })();\n",
       "      </script>\n",
       "  "
      ],
      "text/plain": [
       "<IPython.core.display.HTML object>"
      ]
     },
     "metadata": {},
     "output_type": "display_data"
    }
   ],
   "source": [
    "%tensorboard --logdir=lightning_logs/"
   ]
  },
  {
   "cell_type": "code",
   "execution_count": null,
   "metadata": {},
   "outputs": [
    {
     "name": "stdout",
     "output_type": "stream",
     "text": [
      "Converted cb_mixup.ipynb.\n"
     ]
    }
   ],
   "source": [
    "from nbdev.export import *\n",
    "notebook2script('model.ipynb')"
   ]
  }
 ],
 "metadata": {
  "kernelspec": {
   "display_name": "Python 3",
   "language": "python",
   "name": "python3"
  }
 },
 "nbformat": 4,
 "nbformat_minor": 4
}
