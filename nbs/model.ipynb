{
 "cells": [
  {
   "cell_type": "code",
   "execution_count": null,
   "metadata": {},
   "outputs": [],
   "source": [
    "# default_exp model"
   ]
  },
  {
   "cell_type": "markdown",
   "metadata": {},
   "source": [
    "# Models\n",
    "\n",
    "> API details."
   ]
  },
  {
   "cell_type": "code",
   "execution_count": null,
   "metadata": {},
   "outputs": [],
   "source": [
    "%load_ext autoreload\n",
    "%autoreload 2\n",
    "\n",
    "import matplotlib as mpl\n",
    "%matplotlib inline"
   ]
  },
  {
   "cell_type": "code",
   "execution_count": null,
   "metadata": {},
   "outputs": [],
   "source": [
    "#export\n",
    "import warnings\n",
    "import re\n",
    "from functools import partial\n",
    "\n",
    "import torch\n",
    "import torch.nn as nn\n",
    "import torch.nn.functional as F\n",
    "import torchvision.models as models\n",
    "\n",
    "import pytorch_lightning as pl\n",
    "from pytorch_lightning.core import LightningModule\n",
    "from pytorch_lightning.metrics import functional as FM"
   ]
  },
  {
   "cell_type": "code",
   "execution_count": null,
   "metadata": {},
   "outputs": [],
   "source": [
    "#export\n",
    "from isic.dataset import SkinDataModule, from_label_idx_to_key\n",
    "from isic.layers import LabelSmoothingCrossEntropy\n",
    "from isic.callback.hyperlogger import HyperparamsLogger\n",
    "from isic.callback.logtable import LogTableMetricsCallback\n",
    "from isic.callback.mixup import MixupDict\n",
    "from isic.callback.cutmix import CutmixDict\n",
    "from isic.callback.freeze import FreezeCallback, UnfreezeCallback\n",
    "from isic.utils.core import reduce_loss, generate_val_steps\n",
    "from isic.utils.model import apply_init, get_bias_batchnorm_params, apply_leaf, check_attrib_module, create_body, create_head, lr_find, freeze, unfreeze, log_metrics_per_key, has_pool_type\n",
    "from isic.hook import num_features_model"
   ]
  },
  {
   "cell_type": "code",
   "execution_count": null,
   "metadata": {},
   "outputs": [],
   "source": [
    "#export\n",
    "class BaselineModel(LightningModule):\n",
    "    def __init__(self, arch='resnet50', lr=1e-2, loss_func=None):\n",
    "        super().__init__()\n",
    "        self.save_hyperparameters()\n",
    "        if isinstance(arch, str):\n",
    "            self.model = getattr(models, arch)(pretrained=True)\n",
    "            num_ftrs = self.model.fc.in_features\n",
    "            self.model.fc = nn.Linear(num_ftrs, 7)\n",
    "        else:\n",
    "            self.model = arch\n",
    "        self.loss_func = loss_func\n",
    "        if self.loss_func is None:\n",
    "            self.loss_func = F.cross_entropy\n",
    "\n",
    "    def forward(self, x):\n",
    "        return self.model(x)\n",
    "\n",
    "    def shared_step(self, batch, batch_id):\n",
    "        x, y = batch['img'], batch['label']\n",
    "        y_hat = self(x)\n",
    "        return self.loss_func(y_hat, y), (y_hat, y)\n",
    "\n",
    "    def training_step(self, batch, batch_idx):\n",
    "        loss, _ = self.shared_step(batch, batch_idx)\n",
    "        self.log('train_loss', loss)\n",
    "        \n",
    "        return loss\n",
    "\n",
    "    def calc_and_log_metrics(self, y_hat, y):\n",
    "        acc = FM.accuracy(y_hat, y, num_classes=7)\n",
    "        preds = y_hat.argmax(1)\n",
    "        precision, recall = FM.precision_recall(y_hat, y, num_classes=7, class_reduction='macro')\n",
    "        f1 = FM.f1_score(y_hat, y, num_classes=7, class_reduction='macro')\n",
    "        prec_arr, recall_arr = FM.precision_recall(y_hat, y, num_classes=7, class_reduction='none')\n",
    "        \n",
    "        self.log('val_acc', acc, prog_bar=True)\n",
    "        self.log('val_precision', precision, prog_bar=True)\n",
    "        self.log('val_recall', recall, prog_bar=True)\n",
    "        self.log('F1', f1, prog_bar=True)\n",
    "        metrics = {\n",
    "            \"precision\": prec_arr,\n",
    "            \"recall\": recall_arr,\n",
    "        }\n",
    "        log_metrics_per_key(self, metrics)\n",
    "\n",
    "    def validation_step(self, batch, batch_idx):\n",
    "        loss, (y_hat, y) = self.shared_step(batch, batch_idx)\n",
    "        return {\"y\": y, \"y_hat\": y_hat, \"loss\": loss}\n",
    "\n",
    "    def validation_epoch_end(self, preds):\n",
    "        losses = torch.tensor([pred['loss'] for pred in preds])\n",
    "        ys = torch.cat([pred['y'] for pred in preds])\n",
    "        y_hats = torch.cat([pred['y_hat'] for pred in preds])\n",
    "        avg_val_loss = losses.mean()\n",
    "\n",
    "        self.calc_and_log_metrics(y_hats, ys)\n",
    "        self.log('val_loss', avg_val_loss, prog_bar=True)\n",
    "\n",
    "    def test_step(self, batch, batch_idx):\n",
    "        _, (y_hat, y) = self.shared_step(batch, batch_idx)\n",
    "        return {\"y\": y, \"y_hat\": y_hat}\n",
    "\n",
    "    def test_epoch_end(self, preds):        \n",
    "        ys = torch.cat([pred['y'] for pred in preds])\n",
    "        y_hats = torch.cat([pred['y_hat'] for pred in preds])\n",
    "        self.calc_and_log_metrics(y_hats, ys)\n",
    "        torch.save(y_hats.cpu(), 'preds.pt')\n",
    "        torch.save(ys.cpu(), 'labels.pt')\n",
    "\n",
    "    def configure_optimizers(self):\n",
    "        opt = torch.optim.Adam(self.parameters(), lr=self.hparams.lr)\n",
    "        return opt"
   ]
  },
  {
   "cell_type": "code",
   "execution_count": null,
   "metadata": {},
   "outputs": [],
   "source": [
    "#export\n",
    "class Model(LightningModule):\n",
    "    def __init__(self, lr=1e-2, wd=0., n_out=7, concat_pool=True, arch='resnet50', loss_func=None, verbose=True):\n",
    "        super().__init__()\n",
    "        self.save_hyperparameters()\n",
    "        # create body\n",
    "        body, self.split, num_ftrs = create_body(arch)\n",
    "        \n",
    "        # create head\n",
    "        head = create_head(num_ftrs, n_out)\n",
    "        \n",
    "        #model\n",
    "        self.model = nn.Sequential(body, head)\n",
    "        apply_init(self.model[1])\n",
    "        \n",
    "        # Setup so that batchnorm will not be freeze.\n",
    "        for p in get_bias_batchnorm_params(self.model, False):\n",
    "            p.force_train = True\n",
    "        # Setup so that biases and batchnorm will skip weight decay.\n",
    "        for p in get_bias_batchnorm_params(self.model, True):\n",
    "            p.skip_wd = True\n",
    "\n",
    "        n_groups = self.create_opt(torch.optim.Adam, None)\n",
    "        freeze(self, n_groups)\n",
    "        \n",
    "        self.loss_func = loss_func\n",
    "        if self.loss_func is None:\n",
    "            self.loss_func = F.cross_entropy\n",
    "\n",
    "    def forward(self, x):\n",
    "        return self.model(x)\n",
    "    \n",
    "    def exclude_params_with_attrib(self, splits, skip_list=['skip_wd']):\n",
    "        includes = []\n",
    "        excludes = []\n",
    "        for param_group in splits:\n",
    "            ins, exs = [], []\n",
    "            for param in param_group:\n",
    "                if not param.requires_grad:\n",
    "                    continue\n",
    "                elif any(getattr(param, attrib, False) for attrib in skip_list):\n",
    "                    exs.append(param)\n",
    "                else:\n",
    "                    ins.append(param)\n",
    "            includes.append(ins)\n",
    "            excludes.append(exs)\n",
    "        \n",
    "        if self.hparams.verbose:\n",
    "            print('Total splits = ', len(excludes))\n",
    "            for i in range(len(excludes)):\n",
    "                print(f'Split {i+1}: {len(excludes[i])} layers are excluded.')\n",
    "\n",
    "        return includes + excludes\n",
    "\n",
    "    def get_params(self, split_bn=True):\n",
    "        if split_bn:\n",
    "            splits = self.split(self.model)\n",
    "            return self.exclude_params_with_attrib(splits)\n",
    "        else:\n",
    "            return self.split(self.model)\n",
    "\n",
    "    def shared_step(self, batch, batch_id):\n",
    "        x, y = batch['img'], batch['label']\n",
    "        y_hat = self(x)\n",
    "        return self.loss_func(y_hat, y), (y_hat, y)\n",
    "\n",
    "    def training_step(self, batch, batch_idx):\n",
    "        loss, _ = self.shared_step(batch, batch_idx)\n",
    "        self.log('train_loss', loss)\n",
    "        \n",
    "        return loss\n",
    "\n",
    "    def calc_and_log_metrics(self, y_hat, y):\n",
    "        acc = FM.accuracy(y_hat, y, num_classes=7)\n",
    "        preds = y_hat.argmax(1)\n",
    "        precision, recall = FM.precision_recall(y_hat, y, num_classes=7, class_reduction='macro')\n",
    "        f1 = FM.f1_score(y_hat, y, num_classes=7, class_reduction='macro')\n",
    "        prec_arr, recall_arr = FM.precision_recall(y_hat, y, num_classes=7, class_reduction='none')\n",
    "        \n",
    "        self.log('val_acc', acc, prog_bar=True)\n",
    "        self.log('val_precision', precision, prog_bar=True)\n",
    "        self.log('val_recall', recall, prog_bar=True)\n",
    "        self.log('F1', f1, prog_bar=True)\n",
    "        metrics = {\n",
    "            \"precision\": prec_arr,\n",
    "            \"recall\": recall_arr,\n",
    "        }\n",
    "        log_metrics_per_key(self, metrics)\n",
    "\n",
    "    def validation_step(self, batch, batch_idx):\n",
    "        loss, (y_hat, y) = self.shared_step(batch, batch_idx)\n",
    "        return {\"y\": y, \"y_hat\": y_hat, \"loss\": loss}\n",
    "\n",
    "    def validation_epoch_end(self, preds):\n",
    "        losses = torch.tensor([pred['loss'] for pred in preds])\n",
    "        ys = torch.cat([pred['y'] for pred in preds])\n",
    "        y_hats = torch.cat([pred['y_hat'] for pred in preds])\n",
    "        avg_val_loss = losses.mean()\n",
    "\n",
    "        self.calc_and_log_metrics(y_hats, ys)\n",
    "        self.log('val_loss', avg_val_loss, prog_bar=True)\n",
    "\n",
    "    def test_step(self, batch, batch_idx):\n",
    "        _, (y_hat, y) = self.shared_step(batch, batch_idx)\n",
    "        return {\"y\": y, \"y_hat\": y_hat}\n",
    "\n",
    "    def test_epoch_end(self, preds):        \n",
    "        ys = torch.cat([pred['y'] for pred in preds])\n",
    "        y_hats = torch.cat([pred['y_hat'] for pred in preds])\n",
    "        self.calc_and_log_metrics(y_hats, ys)\n",
    "        torch.save(y_hats.cpu(), 'preds.pt')\n",
    "        torch.save(ys.cpu(), 'labels.pt')\n",
    "\n",
    "    def create_opt(self, opt_func, sched_func, lr=None, wd=None, skip_bn_wd=True):\n",
    "        if lr is None:\n",
    "            lr = self.hparams.lr\n",
    "        if wd is None:\n",
    "            wd = self.hparams.wd\n",
    "\n",
    "        param_groups = self.get_params(skip_bn_wd)        \n",
    "        n_groups = real_n_groups = len(param_groups)\n",
    "        if skip_bn_wd:\n",
    "            # There are duplicates since we split the batchnorms out of it.\n",
    "            n_groups //= 2\n",
    "\n",
    "        def _inner():\n",
    "            if self.hparams.verbose:\n",
    "                print('Overriding_configure_optimizer...')\n",
    "            \n",
    "            lrs = generate_val_steps(lr, n_groups)\n",
    "            if skip_bn_wd:\n",
    "                lrs += lrs\n",
    "            assert len(lrs) == real_n_groups, f\"Trying to set {len(lrs)} values for LR but there are {n_groups} parameter groups.\"\n",
    "\n",
    "            grps = []\n",
    "            for i, (pg, pg_lr) in enumerate(zip(param_groups, lrs)):\n",
    "                grps.append({\n",
    "                    \"params\": pg,\n",
    "                    \"lr\": pg_lr,\n",
    "                    \"weight_decay\": wd if i < n_groups else 0.\n",
    "                })\n",
    "            \n",
    "            if self.hparams.verbose:\n",
    "                print('LRs for each layer:', lrs)\n",
    "            \n",
    "            # Create a dummy optimizer, lr will be corrected by the scheduler.\n",
    "            opt = opt_func(grps, lr=self.hparams.lr if isinstance(lr, slice) else lr)\n",
    "            if sched_func is not None:\n",
    "                scheduler = sched_func(opt, max_lr=lrs)\n",
    "                sched = {\n",
    "                    'scheduler': scheduler, # The LR schduler\n",
    "                    'interval': 'step', # The unit of the scheduler's step size\n",
    "                    'frequency': 1, # The frequency of the scheduler\n",
    "                    'reduce_on_plateau': False, # For ReduceLROnPlateau scheduler\n",
    "                }\n",
    "                return [opt], [sched]\n",
    "            # Not use sched_func\n",
    "            return opt\n",
    "\n",
    "        self.configure_optimizers = _inner\n",
    "        return n_groups"
   ]
  },
  {
   "cell_type": "code",
   "execution_count": null,
   "metadata": {},
   "outputs": [],
   "source": [
    "#export\n",
    "def fit_one_cycle(epochs, model, datamodule, opt='Adam', max_lr=None, pct_start=0.25, \n",
    "                  div_factor=25., final_div_factor=1e5, wd=None, \n",
    "                  skip_bn_wd=True, max_momentum=0.95, base_momentum=0.85, **kwargs):\n",
    "    if isinstance(opt, str):\n",
    "        opt_func = getattr(torch.optim, opt, False)\n",
    "        if not opt_func:\n",
    "            raise Exception(\"Invalid optimizer, please pass correct name string as in pytorch.optim.\")\n",
    "    else:\n",
    "        opt_func = opt\n",
    "    sched_func = torch.optim.lr_scheduler.OneCycleLR\n",
    "    steps_epoch = len(datamodule.train_dataloader())\n",
    "    sched = partial(sched_func, epochs=epochs, steps_per_epoch=steps_epoch, pct_start=pct_start, \n",
    "                    div_factor=div_factor, final_div_factor=final_div_factor,\n",
    "                    base_momentum=base_momentum, max_momentum=max_momentum)\n",
    "    model.create_opt(opt_func, sched, lr=max_lr, wd=wd)\n",
    "    trainer = pl.Trainer(max_epochs=epochs, **kwargs)\n",
    "    trainer.fit(model, datamodule)\n",
    "    return trainer"
   ]
  },
  {
   "cell_type": "code",
   "execution_count": null,
   "metadata": {},
   "outputs": [],
   "source": [
    "message_formater = \"You have set {0} number of classes if different from predicted {0} and target {0} number of classes\"\n",
    "warnings.filterwarnings(\"ignore\", message_formater.format(\"(.*)\"), category=UserWarning)"
   ]
  },
  {
   "cell_type": "code",
   "execution_count": null,
   "metadata": {},
   "outputs": [],
   "source": [
    "dm = SkinDataModule()\n",
    "dm.prepare_data()\n",
    "dm.setup('fit')"
   ]
  },
  {
   "cell_type": "code",
   "execution_count": null,
   "metadata": {},
   "outputs": [],
   "source": [
    "F_EPOCHS = 1\n",
    "U_EPOCHS = 1\n",
    "LR = 1e-2"
   ]
  },
  {
   "cell_type": "code",
   "execution_count": null,
   "metadata": {},
   "outputs": [
    {
     "name": "stdout",
     "output_type": "stream",
     "text": [
      "Total splits =  3\n",
      "Split 1: 20 layers are excluded.\n",
      "Split 2: 20 layers are excluded.\n",
      "Split 3: 4 layers are excluded.\n"
     ]
    }
   ],
   "source": [
    "# init model\n",
    "model = Model(LR, arch='resnet18')"
   ]
  },
  {
   "cell_type": "code",
   "execution_count": null,
   "metadata": {},
   "outputs": [
    {
     "name": "stderr",
     "output_type": "stream",
     "text": [
      "GPU available: False, used: False\n",
      "TPU available: False, using: 0 TPU cores\n",
      "\n",
      "  | Name  | Type       | Params\n",
      "-------------------------------------\n",
      "0 | model | Sequential | 11 M  \n"
     ]
    },
    {
     "name": "stdout",
     "output_type": "stream",
     "text": [
      "Overriding_configure_optimizer...\n",
      "LRs for each layer: [0.01, 0.01, 0.01, 0.01, 0.01, 0.01]\n"
     ]
    },
    {
     "data": {
      "application/vnd.jupyter.widget-view+json": {
       "model_id": "",
       "version_major": 2,
       "version_minor": 0
      },
      "text/plain": [
       "HBox(children=(FloatProgress(value=1.0, bar_style='info', description='Validation sanity check', layout=Layout…"
      ]
     },
     "metadata": {},
     "output_type": "display_data"
    },
    {
     "name": "stdout",
     "output_type": "stream",
     "text": [
      "Totals batches 2\n",
      "loss torch.Size([2])\n",
      "y torch.Size([128])\n",
      "yhat torch.Size([128, 7])\n"
     ]
    },
    {
     "data": {
      "application/vnd.jupyter.widget-view+json": {
       "model_id": "7acca9c138f4400ea88e7bc81cf2c48b",
       "version_major": 2,
       "version_minor": 0
      },
      "text/plain": [
       "HBox(children=(FloatProgress(value=1.0, bar_style='info', description='Training', layout=Layout(flex='2'), max…"
      ]
     },
     "metadata": {},
     "output_type": "display_data"
    },
    {
     "data": {
      "application/vnd.jupyter.widget-view+json": {
       "model_id": "",
       "version_major": 2,
       "version_minor": 0
      },
      "text/plain": [
       "HBox(children=(FloatProgress(value=1.0, bar_style='info', description='Validating', layout=Layout(flex='2'), m…"
      ]
     },
     "metadata": {},
     "output_type": "display_data"
    },
    {
     "name": "stdout",
     "output_type": "stream",
     "text": [
      "Totals batches 9\n",
      "loss torch.Size([9])\n",
      "y torch.Size([576])\n",
      "yhat torch.Size([576, 7])\n",
      "\n"
     ]
    },
    {
     "data": {
      "text/plain": [
       "1"
      ]
     },
     "execution_count": null,
     "metadata": {},
     "output_type": "execute_result"
    }
   ],
   "source": [
    "trainer = pl.Trainer(max_epochs=1, limit_train_batches=0.01, limit_val_batches=0.5)\n",
    "trainer.fit(model, dm)"
   ]
  },
  {
   "cell_type": "code",
   "execution_count": null,
   "metadata": {},
   "outputs": [
    {
     "name": "stdout",
     "output_type": "stream",
     "text": [
      "Conv2d(3, 64, kernel_size=(7, 7), stride=(2, 2), padding=(3, 3), bias=False)\n",
      "['weight-requires_grad-False']\n",
      "BatchNorm2d(64, eps=1e-05, momentum=0.1, affine=True, track_running_stats=True)\n",
      "['weight-requires_grad-True', 'weight-skip_wd-True', 'bias-requires_grad-True', 'bias-skip_wd-True']\n",
      "ReLU(inplace=True)\n",
      "[]\n",
      "MaxPool2d(kernel_size=3, stride=2, padding=1, dilation=1, ceil_mode=False)\n",
      "[]\n",
      "Conv2d(64, 64, kernel_size=(3, 3), stride=(1, 1), padding=(1, 1), bias=False)\n",
      "['weight-requires_grad-False']\n",
      "BatchNorm2d(64, eps=1e-05, momentum=0.1, affine=True, track_running_stats=True)\n",
      "['weight-requires_grad-True', 'weight-skip_wd-True', 'bias-requires_grad-True', 'bias-skip_wd-True']\n",
      "ReLU(inplace=True)\n",
      "[]\n",
      "Conv2d(64, 64, kernel_size=(3, 3), stride=(1, 1), padding=(1, 1), bias=False)\n",
      "['weight-requires_grad-False']\n",
      "BatchNorm2d(64, eps=1e-05, momentum=0.1, affine=True, track_running_stats=True)\n",
      "['weight-requires_grad-True', 'weight-skip_wd-True', 'bias-requires_grad-True', 'bias-skip_wd-True']\n",
      "Conv2d(64, 64, kernel_size=(3, 3), stride=(1, 1), padding=(1, 1), bias=False)\n",
      "['weight-requires_grad-False']\n",
      "BatchNorm2d(64, eps=1e-05, momentum=0.1, affine=True, track_running_stats=True)\n",
      "['weight-requires_grad-True', 'weight-skip_wd-True', 'bias-requires_grad-True', 'bias-skip_wd-True']\n",
      "ReLU(inplace=True)\n",
      "[]\n",
      "Conv2d(64, 64, kernel_size=(3, 3), stride=(1, 1), padding=(1, 1), bias=False)\n",
      "['weight-requires_grad-False']\n",
      "BatchNorm2d(64, eps=1e-05, momentum=0.1, affine=True, track_running_stats=True)\n",
      "['weight-requires_grad-True', 'weight-skip_wd-True', 'bias-requires_grad-True', 'bias-skip_wd-True']\n",
      "Conv2d(64, 128, kernel_size=(3, 3), stride=(2, 2), padding=(1, 1), bias=False)\n",
      "['weight-requires_grad-False']\n",
      "BatchNorm2d(128, eps=1e-05, momentum=0.1, affine=True, track_running_stats=True)\n",
      "['weight-requires_grad-True', 'weight-skip_wd-True', 'bias-requires_grad-True', 'bias-skip_wd-True']\n",
      "ReLU(inplace=True)\n",
      "[]\n",
      "Conv2d(128, 128, kernel_size=(3, 3), stride=(1, 1), padding=(1, 1), bias=False)\n",
      "['weight-requires_grad-False']\n",
      "BatchNorm2d(128, eps=1e-05, momentum=0.1, affine=True, track_running_stats=True)\n",
      "['weight-requires_grad-True', 'weight-skip_wd-True', 'bias-requires_grad-True', 'bias-skip_wd-True']\n",
      "Conv2d(64, 128, kernel_size=(1, 1), stride=(2, 2), bias=False)\n",
      "['weight-requires_grad-False']\n",
      "BatchNorm2d(128, eps=1e-05, momentum=0.1, affine=True, track_running_stats=True)\n",
      "['weight-requires_grad-True', 'weight-skip_wd-True', 'bias-requires_grad-True', 'bias-skip_wd-True']\n",
      "Conv2d(128, 128, kernel_size=(3, 3), stride=(1, 1), padding=(1, 1), bias=False)\n",
      "['weight-requires_grad-False']\n",
      "BatchNorm2d(128, eps=1e-05, momentum=0.1, affine=True, track_running_stats=True)\n",
      "['weight-requires_grad-True', 'weight-skip_wd-True', 'bias-requires_grad-True', 'bias-skip_wd-True']\n",
      "ReLU(inplace=True)\n",
      "[]\n",
      "Conv2d(128, 128, kernel_size=(3, 3), stride=(1, 1), padding=(1, 1), bias=False)\n",
      "['weight-requires_grad-False']\n",
      "BatchNorm2d(128, eps=1e-05, momentum=0.1, affine=True, track_running_stats=True)\n",
      "['weight-requires_grad-True', 'weight-skip_wd-True', 'bias-requires_grad-True', 'bias-skip_wd-True']\n",
      "Conv2d(128, 256, kernel_size=(3, 3), stride=(2, 2), padding=(1, 1), bias=False)\n",
      "['weight-requires_grad-False']\n",
      "BatchNorm2d(256, eps=1e-05, momentum=0.1, affine=True, track_running_stats=True)\n",
      "['weight-requires_grad-True', 'weight-skip_wd-True', 'bias-requires_grad-True', 'bias-skip_wd-True']\n",
      "ReLU(inplace=True)\n",
      "[]\n",
      "Conv2d(256, 256, kernel_size=(3, 3), stride=(1, 1), padding=(1, 1), bias=False)\n",
      "['weight-requires_grad-False']\n",
      "BatchNorm2d(256, eps=1e-05, momentum=0.1, affine=True, track_running_stats=True)\n",
      "['weight-requires_grad-True', 'weight-skip_wd-True', 'bias-requires_grad-True', 'bias-skip_wd-True']\n",
      "Conv2d(128, 256, kernel_size=(1, 1), stride=(2, 2), bias=False)\n",
      "['weight-requires_grad-False']\n",
      "BatchNorm2d(256, eps=1e-05, momentum=0.1, affine=True, track_running_stats=True)\n",
      "['weight-requires_grad-True', 'weight-skip_wd-True', 'bias-requires_grad-True', 'bias-skip_wd-True']\n",
      "Conv2d(256, 256, kernel_size=(3, 3), stride=(1, 1), padding=(1, 1), bias=False)\n",
      "['weight-requires_grad-False']\n",
      "BatchNorm2d(256, eps=1e-05, momentum=0.1, affine=True, track_running_stats=True)\n",
      "['weight-requires_grad-True', 'weight-skip_wd-True', 'bias-requires_grad-True', 'bias-skip_wd-True']\n",
      "ReLU(inplace=True)\n",
      "[]\n",
      "Conv2d(256, 256, kernel_size=(3, 3), stride=(1, 1), padding=(1, 1), bias=False)\n",
      "['weight-requires_grad-False']\n",
      "BatchNorm2d(256, eps=1e-05, momentum=0.1, affine=True, track_running_stats=True)\n",
      "['weight-requires_grad-True', 'weight-skip_wd-True', 'bias-requires_grad-True', 'bias-skip_wd-True']\n",
      "Conv2d(256, 512, kernel_size=(3, 3), stride=(2, 2), padding=(1, 1), bias=False)\n",
      "['weight-requires_grad-False']\n",
      "BatchNorm2d(512, eps=1e-05, momentum=0.1, affine=True, track_running_stats=True)\n",
      "['weight-requires_grad-True', 'weight-skip_wd-True', 'bias-requires_grad-True', 'bias-skip_wd-True']\n",
      "ReLU(inplace=True)\n",
      "[]\n",
      "Conv2d(512, 512, kernel_size=(3, 3), stride=(1, 1), padding=(1, 1), bias=False)\n",
      "['weight-requires_grad-False']\n",
      "BatchNorm2d(512, eps=1e-05, momentum=0.1, affine=True, track_running_stats=True)\n",
      "['weight-requires_grad-True', 'weight-skip_wd-True', 'bias-requires_grad-True', 'bias-skip_wd-True']\n",
      "Conv2d(256, 512, kernel_size=(1, 1), stride=(2, 2), bias=False)\n",
      "['weight-requires_grad-False']\n",
      "BatchNorm2d(512, eps=1e-05, momentum=0.1, affine=True, track_running_stats=True)\n",
      "['weight-requires_grad-True', 'weight-skip_wd-True', 'bias-requires_grad-True', 'bias-skip_wd-True']\n",
      "Conv2d(512, 512, kernel_size=(3, 3), stride=(1, 1), padding=(1, 1), bias=False)\n",
      "['weight-requires_grad-False']\n",
      "BatchNorm2d(512, eps=1e-05, momentum=0.1, affine=True, track_running_stats=True)\n",
      "['weight-requires_grad-True', 'weight-skip_wd-True', 'bias-requires_grad-True', 'bias-skip_wd-True']\n",
      "ReLU(inplace=True)\n",
      "[]\n",
      "Conv2d(512, 512, kernel_size=(3, 3), stride=(1, 1), padding=(1, 1), bias=False)\n",
      "['weight-requires_grad-False']\n",
      "BatchNorm2d(512, eps=1e-05, momentum=0.1, affine=True, track_running_stats=True)\n",
      "['weight-requires_grad-True', 'weight-skip_wd-True', 'bias-requires_grad-True', 'bias-skip_wd-True']\n",
      "AdaptiveAvgPool2d(output_size=1)\n",
      "[]\n",
      "AdaptiveMaxPool2d(output_size=1)\n",
      "[]\n",
      "Flatten()\n",
      "[]\n",
      "BatchNorm1d(1024, eps=1e-05, momentum=0.1, affine=True, track_running_stats=True)\n",
      "['weight-requires_grad-True', 'weight-skip_wd-True', 'bias-requires_grad-True', 'bias-skip_wd-True']\n",
      "Dropout(p=0.25, inplace=False)\n",
      "[]\n",
      "Linear(in_features=1024, out_features=512, bias=False)\n",
      "['weight-requires_grad-True']\n",
      "ReLU(inplace=True)\n",
      "[]\n",
      "BatchNorm1d(512, eps=1e-05, momentum=0.1, affine=True, track_running_stats=True)\n",
      "['weight-requires_grad-True', 'weight-skip_wd-True', 'bias-requires_grad-True', 'bias-skip_wd-True']\n",
      "Dropout(p=0.5, inplace=False)\n",
      "[]\n",
      "Linear(in_features=512, out_features=7, bias=False)\n",
      "['weight-requires_grad-True']\n"
     ]
    }
   ],
   "source": [
    "check_attrib_module(model)"
   ]
  },
  {
   "cell_type": "code",
   "execution_count": null,
   "metadata": {},
   "outputs": [
    {
     "name": "stderr",
     "output_type": "stream",
     "text": [
      "GPU available: False, used: False\n",
      "TPU available: False, using: 0 TPU cores\n",
      "Running in fast_dev_run mode: will run a full train, val and test loop using a single batch\n",
      "\n",
      "  | Name  | Type       | Params\n",
      "-------------------------------------\n",
      "0 | model | Sequential | 11 M  \n"
     ]
    },
    {
     "name": "stdout",
     "output_type": "stream",
     "text": [
      "Overriding_configure_optimizer...\n",
      "LRs for each layer: [0.01, 0.01, 0.01, 0.01, 0.01, 0.01]\n"
     ]
    },
    {
     "data": {
      "application/vnd.jupyter.widget-view+json": {
       "model_id": "633116fd9475499e87d15595ad5512f0",
       "version_major": 2,
       "version_minor": 0
      },
      "text/plain": [
       "HBox(children=(FloatProgress(value=1.0, bar_style='info', description='Training', layout=Layout(flex='2'), max…"
      ]
     },
     "metadata": {},
     "output_type": "display_data"
    },
    {
     "data": {
      "application/vnd.jupyter.widget-view+json": {
       "model_id": "18ccf05d027a498ba50fa208080e0c43",
       "version_major": 2,
       "version_minor": 0
      },
      "text/plain": [
       "HBox(children=(FloatProgress(value=1.0, bar_style='info', description='Validating', layout=Layout(flex='2'), m…"
      ]
     },
     "metadata": {},
     "output_type": "display_data"
    },
    {
     "ename": "NameError",
     "evalue": "name 'out' is not defined",
     "output_type": "error",
     "traceback": [
      "\u001b[0;31m---------------------------------------------------------------------------\u001b[0m",
      "\u001b[0;31mNameError\u001b[0m                                 Traceback (most recent call last)",
      "\u001b[0;32m<ipython-input-30-cd4c105809af>\u001b[0m in \u001b[0;36m<module>\u001b[0;34m\u001b[0m\n\u001b[0;32m----> 1\u001b[0;31m \u001b[0mlr_find\u001b[0m\u001b[0;34m(\u001b[0m\u001b[0mmodel\u001b[0m\u001b[0;34m,\u001b[0m \u001b[0mdm\u001b[0m\u001b[0;34m,\u001b[0m \u001b[0mcpu\u001b[0m\u001b[0;34m=\u001b[0m\u001b[0;32mTrue\u001b[0m\u001b[0;34m,\u001b[0m \u001b[0mfast_dev_run\u001b[0m\u001b[0;34m=\u001b[0m\u001b[0;32mTrue\u001b[0m\u001b[0;34m,\u001b[0m\u001b[0mverbose\u001b[0m\u001b[0;34m=\u001b[0m\u001b[0;32mTrue\u001b[0m\u001b[0;34m)\u001b[0m\u001b[0;34m\u001b[0m\u001b[0;34m\u001b[0m\u001b[0m\n\u001b[0m",
      "\u001b[0;32m/Work/Workspace/ML/HAM10000/isic/isic/utils/model.py\u001b[0m in \u001b[0;36mlr_find\u001b[0;34m(model, dm, min_lr, max_lr, n_train, exp, cpu, fast_dev_run, skip_last, verbose)\u001b[0m\n\u001b[1;32m    239\u001b[0m     \u001b[0;32mif\u001b[0m \u001b[0mfast_dev_run\u001b[0m\u001b[0;34m:\u001b[0m\u001b[0;34m\u001b[0m\u001b[0;34m\u001b[0m\u001b[0m\n\u001b[1;32m    240\u001b[0m         \u001b[0mtrainer\u001b[0m \u001b[0;34m=\u001b[0m \u001b[0mpl\u001b[0m\u001b[0;34m.\u001b[0m\u001b[0mTrainer\u001b[0m\u001b[0;34m(\u001b[0m\u001b[0mfast_dev_run\u001b[0m\u001b[0;34m=\u001b[0m\u001b[0;32mTrue\u001b[0m\u001b[0;34m,\u001b[0m \u001b[0;34m**\u001b[0m\u001b[0margs\u001b[0m\u001b[0;34m)\u001b[0m\u001b[0;34m\u001b[0m\u001b[0;34m\u001b[0m\u001b[0m\n\u001b[0;32m--> 241\u001b[0;31m         \u001b[0mtrainer\u001b[0m\u001b[0;34m.\u001b[0m\u001b[0mfit\u001b[0m\u001b[0;34m(\u001b[0m\u001b[0mmodel\u001b[0m\u001b[0;34m,\u001b[0m \u001b[0mdm\u001b[0m\u001b[0;34m)\u001b[0m\u001b[0;34m\u001b[0m\u001b[0;34m\u001b[0m\u001b[0m\n\u001b[0m\u001b[1;32m    242\u001b[0m     \u001b[0;32melse\u001b[0m\u001b[0;34m:\u001b[0m\u001b[0;34m\u001b[0m\u001b[0;34m\u001b[0m\u001b[0m\n\u001b[1;32m    243\u001b[0m         \u001b[0mtrainer\u001b[0m \u001b[0;34m=\u001b[0m \u001b[0mpl\u001b[0m\u001b[0;34m.\u001b[0m\u001b[0mTrainer\u001b[0m\u001b[0;34m(\u001b[0m\u001b[0mmax_epochs\u001b[0m\u001b[0;34m=\u001b[0m\u001b[0;36m1\u001b[0m\u001b[0;34m,\u001b[0m \u001b[0;34m**\u001b[0m\u001b[0margs\u001b[0m\u001b[0;34m)\u001b[0m\u001b[0;34m\u001b[0m\u001b[0;34m\u001b[0m\u001b[0m\n",
      "\u001b[0;32m~/miniconda3/envs/devtorch/lib/python3.8/site-packages/pytorch_lightning/trainer/trainer.py\u001b[0m in \u001b[0;36mfit\u001b[0;34m(self, model, train_dataloader, val_dataloaders, datamodule)\u001b[0m\n\u001b[1;32m    452\u001b[0m         \u001b[0mself\u001b[0m\u001b[0;34m.\u001b[0m\u001b[0mcall_hook\u001b[0m\u001b[0;34m(\u001b[0m\u001b[0;34m'on_fit_start'\u001b[0m\u001b[0;34m)\u001b[0m\u001b[0;34m\u001b[0m\u001b[0;34m\u001b[0m\u001b[0m\n\u001b[1;32m    453\u001b[0m \u001b[0;34m\u001b[0m\u001b[0m\n\u001b[0;32m--> 454\u001b[0;31m         \u001b[0mresults\u001b[0m \u001b[0;34m=\u001b[0m \u001b[0mself\u001b[0m\u001b[0;34m.\u001b[0m\u001b[0maccelerator_backend\u001b[0m\u001b[0;34m.\u001b[0m\u001b[0mtrain\u001b[0m\u001b[0;34m(\u001b[0m\u001b[0;34m)\u001b[0m\u001b[0;34m\u001b[0m\u001b[0;34m\u001b[0m\u001b[0m\n\u001b[0m\u001b[1;32m    455\u001b[0m         \u001b[0mself\u001b[0m\u001b[0;34m.\u001b[0m\u001b[0maccelerator_backend\u001b[0m\u001b[0;34m.\u001b[0m\u001b[0mteardown\u001b[0m\u001b[0;34m(\u001b[0m\u001b[0;34m)\u001b[0m\u001b[0;34m\u001b[0m\u001b[0;34m\u001b[0m\u001b[0m\n\u001b[1;32m    456\u001b[0m \u001b[0;34m\u001b[0m\u001b[0m\n",
      "\u001b[0;32m~/miniconda3/envs/devtorch/lib/python3.8/site-packages/pytorch_lightning/accelerators/cpu_backend.py\u001b[0m in \u001b[0;36mtrain\u001b[0;34m(self)\u001b[0m\n\u001b[1;32m     45\u001b[0m \u001b[0;34m\u001b[0m\u001b[0m\n\u001b[1;32m     46\u001b[0m         \u001b[0;31m# train or test\u001b[0m\u001b[0;34m\u001b[0m\u001b[0;34m\u001b[0m\u001b[0;34m\u001b[0m\u001b[0m\n\u001b[0;32m---> 47\u001b[0;31m         \u001b[0mresults\u001b[0m \u001b[0;34m=\u001b[0m \u001b[0mself\u001b[0m\u001b[0;34m.\u001b[0m\u001b[0mtrain_or_test\u001b[0m\u001b[0;34m(\u001b[0m\u001b[0;34m)\u001b[0m\u001b[0;34m\u001b[0m\u001b[0;34m\u001b[0m\u001b[0m\n\u001b[0m\u001b[1;32m     48\u001b[0m         \u001b[0;32mreturn\u001b[0m \u001b[0mresults\u001b[0m\u001b[0;34m\u001b[0m\u001b[0;34m\u001b[0m\u001b[0m\n\u001b[1;32m     49\u001b[0m \u001b[0;34m\u001b[0m\u001b[0m\n",
      "\u001b[0;32m~/miniconda3/envs/devtorch/lib/python3.8/site-packages/pytorch_lightning/accelerators/base_accelerator.py\u001b[0m in \u001b[0;36mtrain_or_test\u001b[0;34m(self)\u001b[0m\n\u001b[1;32m     48\u001b[0m             \u001b[0mresults\u001b[0m \u001b[0;34m=\u001b[0m \u001b[0mself\u001b[0m\u001b[0;34m.\u001b[0m\u001b[0mtrainer\u001b[0m\u001b[0;34m.\u001b[0m\u001b[0mrun_test\u001b[0m\u001b[0;34m(\u001b[0m\u001b[0;34m)\u001b[0m\u001b[0;34m\u001b[0m\u001b[0;34m\u001b[0m\u001b[0m\n\u001b[1;32m     49\u001b[0m         \u001b[0;32melse\u001b[0m\u001b[0;34m:\u001b[0m\u001b[0;34m\u001b[0m\u001b[0;34m\u001b[0m\u001b[0m\n\u001b[0;32m---> 50\u001b[0;31m             \u001b[0mresults\u001b[0m \u001b[0;34m=\u001b[0m \u001b[0mself\u001b[0m\u001b[0;34m.\u001b[0m\u001b[0mtrainer\u001b[0m\u001b[0;34m.\u001b[0m\u001b[0mtrain\u001b[0m\u001b[0;34m(\u001b[0m\u001b[0;34m)\u001b[0m\u001b[0;34m\u001b[0m\u001b[0;34m\u001b[0m\u001b[0m\n\u001b[0m\u001b[1;32m     51\u001b[0m         \u001b[0;32mreturn\u001b[0m \u001b[0mresults\u001b[0m\u001b[0;34m\u001b[0m\u001b[0;34m\u001b[0m\u001b[0m\n\u001b[1;32m     52\u001b[0m \u001b[0;34m\u001b[0m\u001b[0m\n",
      "\u001b[0;32m~/miniconda3/envs/devtorch/lib/python3.8/site-packages/pytorch_lightning/trainer/trainer.py\u001b[0m in \u001b[0;36mtrain\u001b[0;34m(self)\u001b[0m\n\u001b[1;32m    499\u001b[0m \u001b[0;34m\u001b[0m\u001b[0m\n\u001b[1;32m    500\u001b[0m                 \u001b[0;31m# run train epoch\u001b[0m\u001b[0;34m\u001b[0m\u001b[0;34m\u001b[0m\u001b[0;34m\u001b[0m\u001b[0m\n\u001b[0;32m--> 501\u001b[0;31m                 \u001b[0mself\u001b[0m\u001b[0;34m.\u001b[0m\u001b[0mtrain_loop\u001b[0m\u001b[0;34m.\u001b[0m\u001b[0mrun_training_epoch\u001b[0m\u001b[0;34m(\u001b[0m\u001b[0;34m)\u001b[0m\u001b[0;34m\u001b[0m\u001b[0;34m\u001b[0m\u001b[0m\n\u001b[0m\u001b[1;32m    502\u001b[0m \u001b[0;34m\u001b[0m\u001b[0m\n\u001b[1;32m    503\u001b[0m                 \u001b[0;32mif\u001b[0m \u001b[0mself\u001b[0m\u001b[0;34m.\u001b[0m\u001b[0mmax_steps\u001b[0m \u001b[0;32mand\u001b[0m \u001b[0mself\u001b[0m\u001b[0;34m.\u001b[0m\u001b[0mmax_steps\u001b[0m \u001b[0;34m<=\u001b[0m \u001b[0mself\u001b[0m\u001b[0;34m.\u001b[0m\u001b[0mglobal_step\u001b[0m\u001b[0;34m:\u001b[0m\u001b[0;34m\u001b[0m\u001b[0;34m\u001b[0m\u001b[0m\n",
      "\u001b[0;32m~/miniconda3/envs/devtorch/lib/python3.8/site-packages/pytorch_lightning/trainer/training_loop.py\u001b[0m in \u001b[0;36mrun_training_epoch\u001b[0;34m(self)\u001b[0m\n\u001b[1;32m    553\u001b[0m             \u001b[0mshould_check_val\u001b[0m \u001b[0;34m=\u001b[0m \u001b[0mself\u001b[0m\u001b[0;34m.\u001b[0m\u001b[0mshould_check_val_fx\u001b[0m\u001b[0;34m(\u001b[0m\u001b[0mbatch_idx\u001b[0m\u001b[0;34m,\u001b[0m \u001b[0mis_last_batch\u001b[0m\u001b[0;34m)\u001b[0m\u001b[0;34m\u001b[0m\u001b[0;34m\u001b[0m\u001b[0m\n\u001b[1;32m    554\u001b[0m             \u001b[0;32mif\u001b[0m \u001b[0mshould_check_val\u001b[0m\u001b[0;34m:\u001b[0m\u001b[0;34m\u001b[0m\u001b[0;34m\u001b[0m\u001b[0m\n\u001b[0;32m--> 555\u001b[0;31m                 \u001b[0mself\u001b[0m\u001b[0;34m.\u001b[0m\u001b[0mtrainer\u001b[0m\u001b[0;34m.\u001b[0m\u001b[0mrun_evaluation\u001b[0m\u001b[0;34m(\u001b[0m\u001b[0mtest_mode\u001b[0m\u001b[0;34m=\u001b[0m\u001b[0;32mFalse\u001b[0m\u001b[0;34m)\u001b[0m\u001b[0;34m\u001b[0m\u001b[0;34m\u001b[0m\u001b[0m\n\u001b[0m\u001b[1;32m    556\u001b[0m \u001b[0;34m\u001b[0m\u001b[0m\n\u001b[1;32m    557\u001b[0m             \u001b[0;31m# -----------------------------------------\u001b[0m\u001b[0;34m\u001b[0m\u001b[0;34m\u001b[0m\u001b[0;34m\u001b[0m\u001b[0m\n",
      "\u001b[0;32m~/miniconda3/envs/devtorch/lib/python3.8/site-packages/pytorch_lightning/trainer/trainer.py\u001b[0m in \u001b[0;36mrun_evaluation\u001b[0;34m(self, test_mode, max_batches)\u001b[0m\n\u001b[1;32m    610\u001b[0m \u001b[0;34m\u001b[0m\u001b[0m\n\u001b[1;32m    611\u001b[0m         \u001b[0;31m# lightning module method\u001b[0m\u001b[0;34m\u001b[0m\u001b[0;34m\u001b[0m\u001b[0;34m\u001b[0m\u001b[0m\n\u001b[0;32m--> 612\u001b[0;31m         deprecated_eval_results, epoch_logs = self.evaluation_loop.evaluation_epoch_end(\n\u001b[0m\u001b[1;32m    613\u001b[0m             \u001b[0mnum_dataloaders\u001b[0m\u001b[0;34m=\u001b[0m\u001b[0mlen\u001b[0m\u001b[0;34m(\u001b[0m\u001b[0mdataloaders\u001b[0m\u001b[0;34m)\u001b[0m\u001b[0;34m\u001b[0m\u001b[0;34m\u001b[0m\u001b[0m\n\u001b[1;32m    614\u001b[0m         )\n",
      "\u001b[0;32m~/miniconda3/envs/devtorch/lib/python3.8/site-packages/pytorch_lightning/trainer/evaluation_loop.py\u001b[0m in \u001b[0;36mevaluation_epoch_end\u001b[0;34m(self, num_dataloaders)\u001b[0m\n\u001b[1;32m    194\u001b[0m \u001b[0;34m\u001b[0m\u001b[0m\n\u001b[1;32m    195\u001b[0m         \u001b[0;31m# call the model epoch end\u001b[0m\u001b[0;34m\u001b[0m\u001b[0;34m\u001b[0m\u001b[0;34m\u001b[0m\u001b[0m\n\u001b[0;32m--> 196\u001b[0;31m         \u001b[0mdeprecated_results\u001b[0m \u001b[0;34m=\u001b[0m \u001b[0mself\u001b[0m\u001b[0;34m.\u001b[0m\u001b[0m__run_eval_epoch_end\u001b[0m\u001b[0;34m(\u001b[0m\u001b[0mnum_dataloaders\u001b[0m\u001b[0;34m,\u001b[0m \u001b[0musing_eval_result\u001b[0m\u001b[0;34m)\u001b[0m\u001b[0;34m\u001b[0m\u001b[0;34m\u001b[0m\u001b[0m\n\u001b[0m\u001b[1;32m    197\u001b[0m \u001b[0;34m\u001b[0m\u001b[0m\n\u001b[1;32m    198\u001b[0m         \u001b[0;31m# 1.0\u001b[0m\u001b[0;34m\u001b[0m\u001b[0;34m\u001b[0m\u001b[0;34m\u001b[0m\u001b[0m\n",
      "\u001b[0;32m~/miniconda3/envs/devtorch/lib/python3.8/site-packages/pytorch_lightning/trainer/evaluation_loop.py\u001b[0m in \u001b[0;36m__run_eval_epoch_end\u001b[0;34m(self, num_dataloaders, using_eval_result)\u001b[0m\n\u001b[1;32m    242\u001b[0m                     \u001b[0meval_results\u001b[0m \u001b[0;34m=\u001b[0m \u001b[0mself\u001b[0m\u001b[0;34m.\u001b[0m\u001b[0m__gather_epoch_end_eval_results\u001b[0m\u001b[0;34m(\u001b[0m\u001b[0moutputs\u001b[0m\u001b[0;34m)\u001b[0m\u001b[0;34m\u001b[0m\u001b[0;34m\u001b[0m\u001b[0m\n\u001b[1;32m    243\u001b[0m \u001b[0;34m\u001b[0m\u001b[0m\n\u001b[0;32m--> 244\u001b[0;31m                 \u001b[0meval_results\u001b[0m \u001b[0;34m=\u001b[0m \u001b[0mmodel\u001b[0m\u001b[0;34m.\u001b[0m\u001b[0mvalidation_epoch_end\u001b[0m\u001b[0;34m(\u001b[0m\u001b[0meval_results\u001b[0m\u001b[0;34m)\u001b[0m\u001b[0;34m\u001b[0m\u001b[0;34m\u001b[0m\u001b[0m\n\u001b[0m\u001b[1;32m    245\u001b[0m                 \u001b[0muser_reduced\u001b[0m \u001b[0;34m=\u001b[0m \u001b[0;32mTrue\u001b[0m\u001b[0;34m\u001b[0m\u001b[0;34m\u001b[0m\u001b[0m\n\u001b[1;32m    246\u001b[0m \u001b[0;34m\u001b[0m\u001b[0m\n",
      "\u001b[0;32m<ipython-input-23-01fc89a0f1f2>\u001b[0m in \u001b[0;36mvalidation_epoch_end\u001b[0;34m(self, preds)\u001b[0m\n\u001b[1;32m     93\u001b[0m \u001b[0;34m\u001b[0m\u001b[0m\n\u001b[1;32m     94\u001b[0m     \u001b[0;32mdef\u001b[0m \u001b[0mvalidation_epoch_end\u001b[0m\u001b[0;34m(\u001b[0m\u001b[0mself\u001b[0m\u001b[0;34m,\u001b[0m \u001b[0mpreds\u001b[0m\u001b[0;34m)\u001b[0m\u001b[0;34m:\u001b[0m\u001b[0;34m\u001b[0m\u001b[0;34m\u001b[0m\u001b[0m\n\u001b[0;32m---> 95\u001b[0;31m         \u001b[0mprint\u001b[0m\u001b[0;34m(\u001b[0m\u001b[0mout\u001b[0m\u001b[0;34m)\u001b[0m\u001b[0;34m\u001b[0m\u001b[0;34m\u001b[0m\u001b[0m\n\u001b[0m\u001b[1;32m     96\u001b[0m \u001b[0;34m\u001b[0m\u001b[0m\n\u001b[1;32m     97\u001b[0m         \u001b[0mlosses\u001b[0m \u001b[0;34m=\u001b[0m \u001b[0mtorch\u001b[0m\u001b[0;34m.\u001b[0m\u001b[0mtensor\u001b[0m\u001b[0;34m(\u001b[0m\u001b[0;34m[\u001b[0m\u001b[0mpred\u001b[0m\u001b[0;34m[\u001b[0m\u001b[0;34m'loss'\u001b[0m\u001b[0;34m]\u001b[0m \u001b[0;32mfor\u001b[0m \u001b[0mpred\u001b[0m \u001b[0;32min\u001b[0m \u001b[0mpreds\u001b[0m\u001b[0;34m]\u001b[0m\u001b[0;34m)\u001b[0m\u001b[0;34m\u001b[0m\u001b[0;34m\u001b[0m\u001b[0m\n",
      "\u001b[0;31mNameError\u001b[0m: name 'out' is not defined"
     ]
    }
   ],
   "source": [
    "lr_find(model, dm, cpu=True, fast_dev_run=True,verbose=True)"
   ]
  },
  {
   "cell_type": "code",
   "execution_count": null,
   "metadata": {},
   "outputs": [
    {
     "name": "stderr",
     "output_type": "stream",
     "text": [
      "GPU available: False, used: False\n",
      "TPU available: False, using: 0 TPU cores\n"
     ]
    }
   ],
   "source": [
    "cbs = [LogTableMetricsCallback(), HyperparamsLogger()]\n",
    "trainer = fit_one_cycle(F_EPOCHS, model, dm, max_lr=LR, callbacks=cbs, fast_dev_run=False, limit_val_batches=0, limit_train_batches=0.01)"
   ]
  },
  {
   "cell_type": "code",
   "execution_count": null,
   "metadata": {},
   "outputs": [],
   "source": [
    "unfreeze(model, 3)"
   ]
  },
  {
   "cell_type": "code",
   "execution_count": null,
   "metadata": {},
   "outputs": [
    {
     "name": "stderr",
     "output_type": "stream",
     "text": [
      "Running in fast_dev_run mode: will run a full train, val and test loop using a single batch\n",
      "GPU available: False, used: False\n",
      "TPU available: False, using: 0 TPU cores\n"
     ]
    }
   ],
   "source": [
    "# Unfreeze training\n",
    "trainer = fit_one_cycle(callbacks=cbs, fast_dev_run=False, limit_val_batches=0, limit_train_batches=0.01)"
   ]
  },
  {
   "cell_type": "code",
   "execution_count": null,
   "metadata": {},
   "outputs": [
    {
     "name": "stderr",
     "output_type": "stream",
     "text": [
      "\n",
      "  | Name      | Type             | Params\n",
      "-----------------------------------------------\n",
      "0 | model     | Sequential       | 25 M  \n",
      "1 | loss_func | CrossEntropyLoss | 0     \n"
     ]
    },
    {
     "name": "stdout",
     "output_type": "stream",
     "text": [
      "override_called\n",
      "wtf\n"
     ]
    },
    {
     "data": {
      "application/vnd.jupyter.widget-view+json": {
       "model_id": "a3447eb291f94446941044767a951eef",
       "version_major": 2,
       "version_minor": 0
      },
      "text/plain": [
       "HBox(children=(FloatProgress(value=1.0, bar_style='info', description='Training', layout=Layout(flex='2'), max…"
      ]
     },
     "metadata": {},
     "output_type": "display_data"
    },
    {
     "data": {
      "application/vnd.jupyter.widget-view+json": {
       "model_id": "",
       "version_major": 2,
       "version_minor": 0
      },
      "text/plain": [
       "HBox(children=(FloatProgress(value=1.0, bar_style='info', description='Validating', layout=Layout(flex='2'), m…"
      ]
     },
     "metadata": {},
     "output_type": "display_data"
    },
    {
     "data": {
      "text/html": [
       "<table border=\"1\" class=\"dataframe\">\n",
       "  <thead>\n",
       "    <tr style=\"text-align: left;\">\n",
       "      <th>epoch</th>\n",
       "      <th>train_loss</th>\n",
       "      <th>train_acc</th>\n",
       "      <th>val_loss</th>\n",
       "      <th>val_acc</th>\n",
       "    </tr>\n",
       "  </thead>\n",
       "  <tbody>\n",
       "    <tr>\n",
       "      <td>1</td>\n",
       "      <td>3.256</td>\n",
       "      <td>0.156250</td>\n",
       "      <td>4.279556</td>\n",
       "      <td>0.000000</td>\n",
       "    </tr>\n",
       "  </tbody>\n",
       "</table><p>"
      ],
      "text/plain": [
       "<IPython.core.display.HTML object>"
      ]
     },
     "metadata": {},
     "output_type": "display_data"
    },
    {
     "name": "stderr",
     "output_type": "stream",
     "text": [
      "Saving latest checkpoint..\n"
     ]
    },
    {
     "name": "stdout",
     "output_type": "stream",
     "text": [
      "\n"
     ]
    },
    {
     "data": {
      "text/plain": [
       "1"
      ]
     },
     "execution_count": null,
     "metadata": {},
     "output_type": "execute_result"
    }
   ],
   "source": [
    "trainer.fit(model, dm)"
   ]
  },
  {
   "cell_type": "code",
   "execution_count": null,
   "metadata": {},
   "outputs": [],
   "source": [
    "%load_ext tensorboard"
   ]
  },
  {
   "cell_type": "code",
   "execution_count": null,
   "metadata": {},
   "outputs": [
    {
     "data": {
      "text/plain": [
       "Reusing TensorBoard on port 6006 (pid 4636), started 4 days, 18:33:26 ago. (Use '!kill 4636' to kill it.)"
      ]
     },
     "metadata": {},
     "output_type": "display_data"
    },
    {
     "data": {
      "text/html": [
       "\n",
       "      <iframe id=\"tensorboard-frame-7752bba96d9fd24c\" width=\"100%\" height=\"800\" frameborder=\"0\">\n",
       "      </iframe>\n",
       "      <script>\n",
       "        (function() {\n",
       "          const frame = document.getElementById(\"tensorboard-frame-7752bba96d9fd24c\");\n",
       "          const url = new URL(\"/\", window.location);\n",
       "          url.port = 6006;\n",
       "          frame.src = url;\n",
       "        })();\n",
       "      </script>\n",
       "  "
      ],
      "text/plain": [
       "<IPython.core.display.HTML object>"
      ]
     },
     "metadata": {},
     "output_type": "display_data"
    }
   ],
   "source": [
    "%tensorboard --logdir=lightning_logs/"
   ]
  },
  {
   "cell_type": "code",
   "execution_count": null,
   "metadata": {},
   "outputs": [
    {
     "name": "stdout",
     "output_type": "stream",
     "text": [
      "Converted model.ipynb.\n"
     ]
    }
   ],
   "source": [
    "from nbdev.export import *\n",
    "notebook2script('model.ipynb')"
   ]
  },
  {
   "cell_type": "code",
   "execution_count": null,
   "metadata": {},
   "outputs": [],
   "source": []
  }
 ],
 "metadata": {
  "kernelspec": {
   "display_name": "Python 3",
   "language": "python",
   "name": "python3"
  }
 },
 "nbformat": 4,
 "nbformat_minor": 4
}
