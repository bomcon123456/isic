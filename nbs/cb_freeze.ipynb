{
 "cells": [
  {
   "cell_type": "code",
   "execution_count": null,
   "metadata": {},
   "outputs": [],
   "source": [
    "# default_exp callback.freeze"
   ]
  },
  {
   "cell_type": "markdown",
   "metadata": {},
   "source": [
    "# Freeze/ Unfreeze Callback\n",
    "\n",
    "> API details."
   ]
  },
  {
   "cell_type": "code",
   "execution_count": null,
   "metadata": {},
   "outputs": [],
   "source": [
    "%load_ext autoreload\n",
    "%autoreload 2\n",
    "\n",
    "import matplotlib as mpl\n",
    "%matplotlib inline"
   ]
  },
  {
   "cell_type": "code",
   "execution_count": null,
   "metadata": {},
   "outputs": [
    {
     "name": "stderr",
     "output_type": "stream",
     "text": [
      "C:\\Users\\bomco\\miniconda3\\envs\\devtorch\\lib\\site-packages\\ipykernel_launcher.py:5: DeprecationWarning: Using or importing the ABCs from 'collections' instead of from 'collections.abc' is deprecated since Python 3.3,and in 3.9 it will stop working\n",
      "  \"\"\"\n",
      "C:\\Users\\bomco\\miniconda3\\envs\\devtorch\\lib\\site-packages\\pytorch_lightning\\utilities\\distributed.py:37: UserWarning: Unsupported `ReduceOp` for distributed computing.\n",
      "  warnings.warn(*args, **kwargs)\n"
     ]
    }
   ],
   "source": [
    "#export\n",
    "import torch.nn as nn\n",
    "\n",
    "from functools import partial\n",
    "from collections import Iterable\n",
    "from collections.abc import Generator\n",
    "import re\n",
    "\n",
    "import torch\n",
    "from pytorch_lightning.callbacks import Callback"
   ]
  },
  {
   "cell_type": "code",
   "execution_count": null,
   "metadata": {},
   "outputs": [],
   "source": [
    "#export\n",
    "def set_require_grad(p, opt, b):\n",
    "    if hasattr(opt, 't_state') and p in opt.t_state and opt.t_state[p].get('force_train', False):\n",
    "        p.requires_grad_(True)\n",
    "        return\n",
    "    p.requires_grad_(b)\n",
    "\n",
    "def freeze_to(n, model, opt):\n",
    "    n_grps = len(opt.param_groups)\n",
    "    frozen_idx = n if n >= 0 else n_grps + n\n",
    "    if frozen_idx >= n_grps:\n",
    "        #TODO use warnings.warn\n",
    "        print(f\"Freezing {frozen_idx} groups; model has {n_groups}; whole model is frozen.\")\n",
    "    for ps in model.get_params()[n:]:\n",
    "        for p in ps:\n",
    "            # require_grad -> True\n",
    "            set_require_grad(p, opt, True)\n",
    "    for ps in model.get_params()[:n]:\n",
    "        for p in ps: \n",
    "            # require_grad -> False\n",
    "            set_require_grad(p, opt, False)\n",
    "\n",
    "def freeze(model, opt):\n",
    "    assert(len(opt.param_groups)>1)\n",
    "    freeze_to(-1, model, opt)\n",
    "    \n",
    "def unfreeze(model, opt):\n",
    "    freeze_to(0, model, opt)"
   ]
  },
  {
   "cell_type": "code",
   "execution_count": null,
   "metadata": {},
   "outputs": [],
   "source": [
    "#export\n",
    "class FreezeCallback(Callback):\n",
    "    def on_train_start(self, trainer, pl_module):\n",
    "        freeze(pl_module, trainer.optimizers[0])\n",
    "        \n",
    "class UnfreezeCallback(Callback):\n",
    "    def on_train_start(self, trainer, pl_module):\n",
    "        unfreeze(pl_module, trainer.optimizers[0])"
   ]
  },
  {
   "cell_type": "code",
   "execution_count": null,
   "metadata": {},
   "outputs": [
    {
     "name": "stdout",
     "output_type": "stream",
     "text": [
      "Converted cb_freeze.ipynb.\n"
     ]
    }
   ],
   "source": [
    "from nbdev.export import *\n",
    "notebook2script('cb_freeze.ipynb')"
   ]
  },
  {
   "cell_type": "code",
   "execution_count": null,
   "metadata": {},
   "outputs": [],
   "source": []
  }
 ],
 "metadata": {
  "kernelspec": {
   "display_name": "Python 3",
   "language": "python",
   "name": "python3"
  }
 },
 "nbformat": 4,
 "nbformat_minor": 4
}
